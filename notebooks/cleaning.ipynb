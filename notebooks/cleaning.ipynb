{
 "cells": [
  {
   "cell_type": "markdown",
   "id": "06dd9872-eb1c-414a-8620-d2153018f1af",
   "metadata": {},
   "source": [
    "# IMPORTS"
   ]
  },
  {
   "cell_type": "code",
   "execution_count": 1,
   "id": "ce1f3c7e-515b-48fa-abe1-b2fe046ff870",
   "metadata": {},
   "outputs": [],
   "source": [
    "import pandas as pd\n",
    "import matplotlib.pyplot as plt\n",
    "import seaborn as sns\n",
    "import numpy as np\n",
    "\n",
    "%matplotlib inline"
   ]
  },
  {
   "cell_type": "code",
   "execution_count": 2,
   "id": "38892a84-20fd-4806-bc3d-970d90de0354",
   "metadata": {},
   "outputs": [
    {
     "name": "stdout",
     "output_type": "stream",
     "text": [
      "Requirement already satisfied: spicy in /Users/roraimachavez/Downloads/7.IRONHACK/Projects/ab_test_project/myenv/lib/python3.11/site-packages (0.16.0)\n",
      "Requirement already satisfied: scipy in /Users/roraimachavez/Downloads/7.IRONHACK/Projects/ab_test_project/myenv/lib/python3.11/site-packages (from spicy) (1.13.0)\n",
      "Requirement already satisfied: numpy<2.3,>=1.22.4 in /Users/roraimachavez/Downloads/7.IRONHACK/Projects/ab_test_project/myenv/lib/python3.11/site-packages (from scipy->spicy) (1.26.4)\n",
      "Note: you may need to restart the kernel to use updated packages.\n"
     ]
    }
   ],
   "source": [
    "pip install spicy"
   ]
  },
  {
   "cell_type": "code",
   "execution_count": 3,
   "id": "ab7ff345-172c-485a-8ea3-aa1f49134521",
   "metadata": {},
   "outputs": [],
   "source": [
    "import scipy.stats as st"
   ]
  },
  {
   "cell_type": "code",
   "execution_count": 168,
   "id": "14364cc1-c866-4d47-b93d-9908b5a12933",
   "metadata": {},
   "outputs": [
    {
     "name": "stdout",
     "output_type": "stream",
     "text": [
      "Collecting statsmodels\n",
      "  Downloading statsmodels-0.14.2-cp311-cp311-macosx_10_9_x86_64.whl.metadata (9.2 kB)\n",
      "Requirement already satisfied: numpy>=1.22.3 in /Users/roraimachavez/Downloads/7.IRONHACK/Projects/ab_test_project/myenv/lib/python3.11/site-packages (from statsmodels) (1.26.4)\n",
      "Requirement already satisfied: scipy!=1.9.2,>=1.8 in /Users/roraimachavez/Downloads/7.IRONHACK/Projects/ab_test_project/myenv/lib/python3.11/site-packages (from statsmodels) (1.13.0)\n",
      "Requirement already satisfied: pandas!=2.1.0,>=1.4 in /Users/roraimachavez/Downloads/7.IRONHACK/Projects/ab_test_project/myenv/lib/python3.11/site-packages (from statsmodels) (2.2.2)\n",
      "Collecting patsy>=0.5.6 (from statsmodels)\n",
      "  Downloading patsy-0.5.6-py2.py3-none-any.whl.metadata (3.5 kB)\n",
      "Requirement already satisfied: packaging>=21.3 in /Users/roraimachavez/Downloads/7.IRONHACK/Projects/ab_test_project/myenv/lib/python3.11/site-packages (from statsmodels) (24.0)\n",
      "Requirement already satisfied: python-dateutil>=2.8.2 in /Users/roraimachavez/Downloads/7.IRONHACK/Projects/ab_test_project/myenv/lib/python3.11/site-packages (from pandas!=2.1.0,>=1.4->statsmodels) (2.9.0.post0)\n",
      "Requirement already satisfied: pytz>=2020.1 in /Users/roraimachavez/Downloads/7.IRONHACK/Projects/ab_test_project/myenv/lib/python3.11/site-packages (from pandas!=2.1.0,>=1.4->statsmodels) (2024.1)\n",
      "Requirement already satisfied: tzdata>=2022.7 in /Users/roraimachavez/Downloads/7.IRONHACK/Projects/ab_test_project/myenv/lib/python3.11/site-packages (from pandas!=2.1.0,>=1.4->statsmodels) (2024.1)\n",
      "Requirement already satisfied: six in /Users/roraimachavez/Downloads/7.IRONHACK/Projects/ab_test_project/myenv/lib/python3.11/site-packages (from patsy>=0.5.6->statsmodels) (1.16.0)\n",
      "Downloading statsmodels-0.14.2-cp311-cp311-macosx_10_9_x86_64.whl (10.4 MB)\n",
      "\u001b[2K   \u001b[90m━━━━━━━━━━━━━━━━━━━━━━━━━━━━━━━━━━━━━━━━\u001b[0m \u001b[32m10.4/10.4 MB\u001b[0m \u001b[31m16.8 MB/s\u001b[0m eta \u001b[36m0:00:00\u001b[0m00:01\u001b[0m0:01\u001b[0m\n",
      "\u001b[?25hDownloading patsy-0.5.6-py2.py3-none-any.whl (233 kB)\n",
      "\u001b[2K   \u001b[90m━━━━━━━━━━━━━━━━━━━━━━━━━━━━━━━━━━━━━━━━\u001b[0m \u001b[32m233.9/233.9 kB\u001b[0m \u001b[31m9.8 MB/s\u001b[0m eta \u001b[36m0:00:00\u001b[0m\n",
      "\u001b[?25hInstalling collected packages: patsy, statsmodels\n",
      "Successfully installed patsy-0.5.6 statsmodels-0.14.2\n",
      "Note: you may need to restart the kernel to use updated packages.\n"
     ]
    }
   ],
   "source": [
    "pip install statsmodels"
   ]
  },
  {
   "cell_type": "code",
   "execution_count": 169,
   "id": "96a123f3-9e3d-4912-b397-c2e696cba81b",
   "metadata": {},
   "outputs": [],
   "source": [
    "from statsmodels.stats.proportion import proportions_ztest"
   ]
  },
  {
   "cell_type": "markdown",
   "id": "d0fa9581-19fe-46ba-87ea-7ed49cf0f63d",
   "metadata": {
    "jp-MarkdownHeadingCollapsed": true
   },
   "source": [
    "# Clients"
   ]
  },
  {
   "cell_type": "code",
   "execution_count": 4,
   "id": "7be7edef-75bc-47b0-8075-235d08b46c9f",
   "metadata": {},
   "outputs": [],
   "source": [
    "clients = pd.read_csv(\"/Users/roraimachavez/Downloads/7.IRONHACK/Projects/ab_test_project/data/df_final_demo.txt\")"
   ]
  },
  {
   "cell_type": "markdown",
   "id": "9235f79e-372d-48a3-9de9-f3935779a075",
   "metadata": {},
   "source": [
    "**Meaning of variables:**\n",
    "\n",
    "- `client_id:` Every client’s unique ID.\n",
    "- `clnt_tenure_yr:` Represents how long the client has been with Vanguard, measured in years.\n",
    "- `clnt_tenure_mnth:` Further breaks down the client’s tenure with Vanguard in months.\n",
    "- `clnt_age:` Indicates the age of the client.\n",
    "- `gendr:` Specifies the client’s gender.\n",
    "- `num_accts:` Denotes the number of accounts the client holds with Vanguard.\n",
    "- `bal:` Gives the total balance spread across all accounts for a particular client.\n",
    "- `calls_6_mnth:` Records the number of times the client reached out over a call in the past six months.\n",
    "- `logons_6_mnth:` Reflects the frequency with which the client logged onto Vanguard’s platform over the last six months."
   ]
  },
  {
   "cell_type": "code",
   "execution_count": 5,
   "id": "1df46931-ffcf-442a-8a7f-78839b96c0a4",
   "metadata": {},
   "outputs": [
    {
     "name": "stdout",
     "output_type": "stream",
     "text": [
      "<class 'pandas.core.frame.DataFrame'>\n",
      "RangeIndex: 70609 entries, 0 to 70608\n",
      "Data columns (total 9 columns):\n",
      " #   Column            Non-Null Count  Dtype  \n",
      "---  ------            --------------  -----  \n",
      " 0   client_id         70609 non-null  int64  \n",
      " 1   clnt_tenure_yr    70595 non-null  float64\n",
      " 2   clnt_tenure_mnth  70595 non-null  float64\n",
      " 3   clnt_age          70594 non-null  float64\n",
      " 4   gendr             70595 non-null  object \n",
      " 5   num_accts         70595 non-null  float64\n",
      " 6   bal               70595 non-null  float64\n",
      " 7   calls_6_mnth      70595 non-null  float64\n",
      " 8   logons_6_mnth     70595 non-null  float64\n",
      "dtypes: float64(7), int64(1), object(1)\n",
      "memory usage: 4.8+ MB\n"
     ]
    }
   ],
   "source": [
    "clients.info()"
   ]
  },
  {
   "cell_type": "code",
   "execution_count": 6,
   "id": "74d465a6-348a-4ea2-bfec-603bf674651d",
   "metadata": {},
   "outputs": [],
   "source": [
    "# Renombrar columnas para que sean mas claras.\n",
    "clients.rename(columns={'gendr': 'gender',\n",
    "                       'num_accts': 'num_accounts',\n",
    "                       'bal': 'balance'}, inplace=True)"
   ]
  },
  {
   "cell_type": "code",
   "execution_count": 7,
   "id": "bf0f4b3e-a7ba-4013-970f-160e26be9eb3",
   "metadata": {},
   "outputs": [
    {
     "data": {
      "text/html": [
       "<div>\n",
       "<style scoped>\n",
       "    .dataframe tbody tr th:only-of-type {\n",
       "        vertical-align: middle;\n",
       "    }\n",
       "\n",
       "    .dataframe tbody tr th {\n",
       "        vertical-align: top;\n",
       "    }\n",
       "\n",
       "    .dataframe thead th {\n",
       "        text-align: right;\n",
       "    }\n",
       "</style>\n",
       "<table border=\"1\" class=\"dataframe\">\n",
       "  <thead>\n",
       "    <tr style=\"text-align: right;\">\n",
       "      <th></th>\n",
       "      <th>client_id</th>\n",
       "      <th>clnt_tenure_yr</th>\n",
       "      <th>clnt_tenure_mnth</th>\n",
       "      <th>clnt_age</th>\n",
       "      <th>gender</th>\n",
       "      <th>num_accounts</th>\n",
       "      <th>balance</th>\n",
       "      <th>calls_6_mnth</th>\n",
       "      <th>logons_6_mnth</th>\n",
       "    </tr>\n",
       "  </thead>\n",
       "  <tbody>\n",
       "    <tr>\n",
       "      <th>0</th>\n",
       "      <td>836976</td>\n",
       "      <td>6.0</td>\n",
       "      <td>73.0</td>\n",
       "      <td>60.5</td>\n",
       "      <td>U</td>\n",
       "      <td>2.0</td>\n",
       "      <td>45105.30</td>\n",
       "      <td>6.0</td>\n",
       "      <td>9.0</td>\n",
       "    </tr>\n",
       "    <tr>\n",
       "      <th>1</th>\n",
       "      <td>2304905</td>\n",
       "      <td>7.0</td>\n",
       "      <td>94.0</td>\n",
       "      <td>58.0</td>\n",
       "      <td>U</td>\n",
       "      <td>2.0</td>\n",
       "      <td>110860.30</td>\n",
       "      <td>6.0</td>\n",
       "      <td>9.0</td>\n",
       "    </tr>\n",
       "    <tr>\n",
       "      <th>2</th>\n",
       "      <td>1439522</td>\n",
       "      <td>5.0</td>\n",
       "      <td>64.0</td>\n",
       "      <td>32.0</td>\n",
       "      <td>U</td>\n",
       "      <td>2.0</td>\n",
       "      <td>52467.79</td>\n",
       "      <td>6.0</td>\n",
       "      <td>9.0</td>\n",
       "    </tr>\n",
       "    <tr>\n",
       "      <th>3</th>\n",
       "      <td>1562045</td>\n",
       "      <td>16.0</td>\n",
       "      <td>198.0</td>\n",
       "      <td>49.0</td>\n",
       "      <td>M</td>\n",
       "      <td>2.0</td>\n",
       "      <td>67454.65</td>\n",
       "      <td>3.0</td>\n",
       "      <td>6.0</td>\n",
       "    </tr>\n",
       "    <tr>\n",
       "      <th>4</th>\n",
       "      <td>5126305</td>\n",
       "      <td>12.0</td>\n",
       "      <td>145.0</td>\n",
       "      <td>33.0</td>\n",
       "      <td>F</td>\n",
       "      <td>2.0</td>\n",
       "      <td>103671.75</td>\n",
       "      <td>0.0</td>\n",
       "      <td>3.0</td>\n",
       "    </tr>\n",
       "  </tbody>\n",
       "</table>\n",
       "</div>"
      ],
      "text/plain": [
       "   client_id  clnt_tenure_yr  clnt_tenure_mnth  clnt_age gender  num_accounts  \\\n",
       "0     836976             6.0              73.0      60.5      U           2.0   \n",
       "1    2304905             7.0              94.0      58.0      U           2.0   \n",
       "2    1439522             5.0              64.0      32.0      U           2.0   \n",
       "3    1562045            16.0             198.0      49.0      M           2.0   \n",
       "4    5126305            12.0             145.0      33.0      F           2.0   \n",
       "\n",
       "     balance  calls_6_mnth  logons_6_mnth  \n",
       "0   45105.30           6.0            9.0  \n",
       "1  110860.30           6.0            9.0  \n",
       "2   52467.79           6.0            9.0  \n",
       "3   67454.65           3.0            6.0  \n",
       "4  103671.75           0.0            3.0  "
      ]
     },
     "execution_count": 7,
     "metadata": {},
     "output_type": "execute_result"
    }
   ],
   "source": [
    "clients.head()"
   ]
  },
  {
   "cell_type": "markdown",
   "id": "d6ca3023-ba37-417e-88e6-ca1a13c56fe6",
   "metadata": {
    "jp-MarkdownHeadingCollapsed": true
   },
   "source": [
    "# Experiments"
   ]
  },
  {
   "cell_type": "code",
   "execution_count": 8,
   "id": "42ab3bc6-13e8-4c10-aa7c-6ae6c0dc7fa2",
   "metadata": {},
   "outputs": [],
   "source": [
    "experiment = pd.read_csv(\"/Users/roraimachavez/Downloads/7.IRONHACK/Projects/ab_test_project/data/df_final_experiment_clients.txt\")"
   ]
  },
  {
   "cell_type": "markdown",
   "id": "cd114f2f-d819-4045-932d-4b514488bdf7",
   "metadata": {},
   "source": [
    "**Meaning of variables:**\n",
    "\n",
    "- `client_id:` Every client’s unique ID.\n",
    "- `variation:` Indicates if a client was part of the experiment."
   ]
  },
  {
   "cell_type": "code",
   "execution_count": 9,
   "id": "aa869d92-1c93-4356-b588-298986e4d1a9",
   "metadata": {},
   "outputs": [
    {
     "name": "stdout",
     "output_type": "stream",
     "text": [
      "<class 'pandas.core.frame.DataFrame'>\n",
      "RangeIndex: 70609 entries, 0 to 70608\n",
      "Data columns (total 2 columns):\n",
      " #   Column     Non-Null Count  Dtype \n",
      "---  ------     --------------  ----- \n",
      " 0   client_id  70609 non-null  int64 \n",
      " 1   Variation  50500 non-null  object\n",
      "dtypes: int64(1), object(1)\n",
      "memory usage: 1.1+ MB\n"
     ]
    }
   ],
   "source": [
    "experiment.info()"
   ]
  },
  {
   "cell_type": "code",
   "execution_count": 10,
   "id": "ed185cb0-ba74-4613-8667-c3804d2c645e",
   "metadata": {},
   "outputs": [
    {
     "data": {
      "text/html": [
       "<div>\n",
       "<style scoped>\n",
       "    .dataframe tbody tr th:only-of-type {\n",
       "        vertical-align: middle;\n",
       "    }\n",
       "\n",
       "    .dataframe tbody tr th {\n",
       "        vertical-align: top;\n",
       "    }\n",
       "\n",
       "    .dataframe thead th {\n",
       "        text-align: right;\n",
       "    }\n",
       "</style>\n",
       "<table border=\"1\" class=\"dataframe\">\n",
       "  <thead>\n",
       "    <tr style=\"text-align: right;\">\n",
       "      <th></th>\n",
       "      <th>client_id</th>\n",
       "      <th>Variation</th>\n",
       "    </tr>\n",
       "  </thead>\n",
       "  <tbody>\n",
       "    <tr>\n",
       "      <th>0</th>\n",
       "      <td>9988021</td>\n",
       "      <td>Test</td>\n",
       "    </tr>\n",
       "    <tr>\n",
       "      <th>1</th>\n",
       "      <td>8320017</td>\n",
       "      <td>Test</td>\n",
       "    </tr>\n",
       "    <tr>\n",
       "      <th>2</th>\n",
       "      <td>4033851</td>\n",
       "      <td>Control</td>\n",
       "    </tr>\n",
       "    <tr>\n",
       "      <th>3</th>\n",
       "      <td>1982004</td>\n",
       "      <td>Test</td>\n",
       "    </tr>\n",
       "    <tr>\n",
       "      <th>4</th>\n",
       "      <td>9294070</td>\n",
       "      <td>Control</td>\n",
       "    </tr>\n",
       "  </tbody>\n",
       "</table>\n",
       "</div>"
      ],
      "text/plain": [
       "   client_id Variation\n",
       "0    9988021      Test\n",
       "1    8320017      Test\n",
       "2    4033851   Control\n",
       "3    1982004      Test\n",
       "4    9294070   Control"
      ]
     },
     "execution_count": 10,
     "metadata": {},
     "output_type": "execute_result"
    }
   ],
   "source": [
    "experiment.head()"
   ]
  },
  {
   "cell_type": "code",
   "execution_count": 11,
   "id": "c85801c2-cacf-43a2-a284-14ff884111b0",
   "metadata": {},
   "outputs": [],
   "source": [
    "experiment.rename(columns={'Variation': 'variation'}, inplace=True)"
   ]
  },
  {
   "cell_type": "code",
   "execution_count": 12,
   "id": "a7a88ca5-54e7-4e35-9396-6211c754ea68",
   "metadata": {},
   "outputs": [
    {
     "data": {
      "text/plain": [
       "array(['Test', 'Control', nan], dtype=object)"
      ]
     },
     "execution_count": 12,
     "metadata": {},
     "output_type": "execute_result"
    }
   ],
   "source": [
    "experiment[\"variation\"].unique()"
   ]
  },
  {
   "cell_type": "code",
   "execution_count": 13,
   "id": "9da40562-9c7e-4948-82c1-7a37897231be",
   "metadata": {},
   "outputs": [
    {
     "data": {
      "text/plain": [
       "0        False\n",
       "1        False\n",
       "2        False\n",
       "3        False\n",
       "4        False\n",
       "         ...  \n",
       "70604     True\n",
       "70605     True\n",
       "70606     True\n",
       "70607     True\n",
       "70608     True\n",
       "Name: variation, Length: 70609, dtype: bool"
      ]
     },
     "execution_count": 13,
     "metadata": {},
     "output_type": "execute_result"
    }
   ],
   "source": [
    "experiment[\"variation\"].isnull()"
   ]
  },
  {
   "cell_type": "markdown",
   "id": "e97d585c-c902-4f0e-a8df-802652e0f5d6",
   "metadata": {},
   "source": [
    "`Control Group:`Clients interacted with Vanguard’s traditional online process.\n",
    "\n",
    "`Test Group:` Clients experienced the new, spruced-up digital interface."
   ]
  },
  {
   "cell_type": "code",
   "execution_count": 14,
   "id": "12c66f4d-c866-47e3-8216-5d1a2822c58b",
   "metadata": {},
   "outputs": [],
   "source": [
    "experiment[\"variation\"] = experiment[\"variation\"].fillna('Not participate')"
   ]
  },
  {
   "cell_type": "code",
   "execution_count": 15,
   "id": "1c21de5a-4f3b-4cb0-ad64-7ca9c9179f02",
   "metadata": {},
   "outputs": [
    {
     "data": {
      "text/html": [
       "<div>\n",
       "<style scoped>\n",
       "    .dataframe tbody tr th:only-of-type {\n",
       "        vertical-align: middle;\n",
       "    }\n",
       "\n",
       "    .dataframe tbody tr th {\n",
       "        vertical-align: top;\n",
       "    }\n",
       "\n",
       "    .dataframe thead th {\n",
       "        text-align: right;\n",
       "    }\n",
       "</style>\n",
       "<table border=\"1\" class=\"dataframe\">\n",
       "  <thead>\n",
       "    <tr style=\"text-align: right;\">\n",
       "      <th></th>\n",
       "      <th>client_id</th>\n",
       "      <th>variation</th>\n",
       "    </tr>\n",
       "  </thead>\n",
       "  <tbody>\n",
       "    <tr>\n",
       "      <th>0</th>\n",
       "      <td>9988021</td>\n",
       "      <td>Test</td>\n",
       "    </tr>\n",
       "    <tr>\n",
       "      <th>1</th>\n",
       "      <td>8320017</td>\n",
       "      <td>Test</td>\n",
       "    </tr>\n",
       "    <tr>\n",
       "      <th>2</th>\n",
       "      <td>4033851</td>\n",
       "      <td>Control</td>\n",
       "    </tr>\n",
       "    <tr>\n",
       "      <th>3</th>\n",
       "      <td>1982004</td>\n",
       "      <td>Test</td>\n",
       "    </tr>\n",
       "    <tr>\n",
       "      <th>4</th>\n",
       "      <td>9294070</td>\n",
       "      <td>Control</td>\n",
       "    </tr>\n",
       "  </tbody>\n",
       "</table>\n",
       "</div>"
      ],
      "text/plain": [
       "   client_id variation\n",
       "0    9988021      Test\n",
       "1    8320017      Test\n",
       "2    4033851   Control\n",
       "3    1982004      Test\n",
       "4    9294070   Control"
      ]
     },
     "execution_count": 15,
     "metadata": {},
     "output_type": "execute_result"
    }
   ],
   "source": [
    "experiment.head()"
   ]
  },
  {
   "cell_type": "code",
   "execution_count": 16,
   "id": "1c50ce51-7f95-4528-862f-1dc673762f16",
   "metadata": {},
   "outputs": [
    {
     "data": {
      "text/plain": [
       "array(['Test', 'Control', 'Not participate'], dtype=object)"
      ]
     },
     "execution_count": 16,
     "metadata": {},
     "output_type": "execute_result"
    }
   ],
   "source": [
    "experiment[\"variation\"].unique()"
   ]
  },
  {
   "cell_type": "code",
   "execution_count": 17,
   "id": "b50435ee-6a21-4920-8195-a50cc90e7851",
   "metadata": {},
   "outputs": [
    {
     "data": {
      "text/plain": [
       "variation\n",
       "Test               26968\n",
       "Control            23532\n",
       "Not participate    20109\n",
       "Name: count, dtype: int64"
      ]
     },
     "execution_count": 17,
     "metadata": {},
     "output_type": "execute_result"
    }
   ],
   "source": [
    "experiment[\"variation\"].value_counts()"
   ]
  },
  {
   "cell_type": "markdown",
   "id": "e121c864-4490-4f86-9d9d-ba0c1f22786a",
   "metadata": {},
   "source": [
    "# Webs data"
   ]
  },
  {
   "cell_type": "markdown",
   "id": "08cfff07-ef5f-4f53-91c7-77488f7c2286",
   "metadata": {},
   "source": [
    "**Meaning of variables:**\n",
    "\n",
    "- `client_id:` Every client’s unique ID.\n",
    "- `visitor_id:` A unique ID for each client-device combination.\n",
    "- `visit_id:` A unique ID for each web visit/session.\n",
    "- `process_step:` Marks each step in the digital process.\n",
    "- `date_time:` Timestamp of each web activity."
   ]
  },
  {
   "cell_type": "code",
   "execution_count": 18,
   "id": "209bcbf9-a0d3-4e9c-aca3-58e1d7efe861",
   "metadata": {},
   "outputs": [],
   "source": [
    "web_1 = pd.read_csv(\"/Users/roraimachavez/Downloads/7.IRONHACK/Projects/ab_test_project/data/df_final_web_data_pt_1.txt\")"
   ]
  },
  {
   "cell_type": "code",
   "execution_count": 19,
   "id": "bd9c23ee-e9ff-4a66-a706-0f670087d085",
   "metadata": {},
   "outputs": [],
   "source": [
    "web_2 = pd.read_csv(\"/Users/roraimachavez/Downloads/7.IRONHACK/Projects/ab_test_project/data/df_final_web_data_pt_2.txt\")"
   ]
  },
  {
   "cell_type": "code",
   "execution_count": 20,
   "id": "c40dc280-9cde-4ecd-be88-da4e0f60fb51",
   "metadata": {},
   "outputs": [
    {
     "name": "stdout",
     "output_type": "stream",
     "text": [
      "<class 'pandas.core.frame.DataFrame'>\n",
      "RangeIndex: 343141 entries, 0 to 343140\n",
      "Data columns (total 5 columns):\n",
      " #   Column        Non-Null Count   Dtype \n",
      "---  ------        --------------   ----- \n",
      " 0   client_id     343141 non-null  int64 \n",
      " 1   visitor_id    343141 non-null  object\n",
      " 2   visit_id      343141 non-null  object\n",
      " 3   process_step  343141 non-null  object\n",
      " 4   date_time     343141 non-null  object\n",
      "dtypes: int64(1), object(4)\n",
      "memory usage: 13.1+ MB\n"
     ]
    }
   ],
   "source": [
    "web_1.info()"
   ]
  },
  {
   "cell_type": "code",
   "execution_count": 21,
   "id": "b070732b-8005-4064-b3f3-3a1aecd6fb48",
   "metadata": {},
   "outputs": [
    {
     "data": {
      "text/html": [
       "<div>\n",
       "<style scoped>\n",
       "    .dataframe tbody tr th:only-of-type {\n",
       "        vertical-align: middle;\n",
       "    }\n",
       "\n",
       "    .dataframe tbody tr th {\n",
       "        vertical-align: top;\n",
       "    }\n",
       "\n",
       "    .dataframe thead th {\n",
       "        text-align: right;\n",
       "    }\n",
       "</style>\n",
       "<table border=\"1\" class=\"dataframe\">\n",
       "  <thead>\n",
       "    <tr style=\"text-align: right;\">\n",
       "      <th></th>\n",
       "      <th>client_id</th>\n",
       "      <th>visitor_id</th>\n",
       "      <th>visit_id</th>\n",
       "      <th>process_step</th>\n",
       "      <th>date_time</th>\n",
       "    </tr>\n",
       "  </thead>\n",
       "  <tbody>\n",
       "    <tr>\n",
       "      <th>0</th>\n",
       "      <td>9988021</td>\n",
       "      <td>580560515_7732621733</td>\n",
       "      <td>781255054_21935453173_531117</td>\n",
       "      <td>step_3</td>\n",
       "      <td>2017-04-17 15:27:07</td>\n",
       "    </tr>\n",
       "    <tr>\n",
       "      <th>1</th>\n",
       "      <td>9988021</td>\n",
       "      <td>580560515_7732621733</td>\n",
       "      <td>781255054_21935453173_531117</td>\n",
       "      <td>step_2</td>\n",
       "      <td>2017-04-17 15:26:51</td>\n",
       "    </tr>\n",
       "    <tr>\n",
       "      <th>2</th>\n",
       "      <td>9988021</td>\n",
       "      <td>580560515_7732621733</td>\n",
       "      <td>781255054_21935453173_531117</td>\n",
       "      <td>step_3</td>\n",
       "      <td>2017-04-17 15:19:22</td>\n",
       "    </tr>\n",
       "    <tr>\n",
       "      <th>3</th>\n",
       "      <td>9988021</td>\n",
       "      <td>580560515_7732621733</td>\n",
       "      <td>781255054_21935453173_531117</td>\n",
       "      <td>step_2</td>\n",
       "      <td>2017-04-17 15:19:13</td>\n",
       "    </tr>\n",
       "    <tr>\n",
       "      <th>4</th>\n",
       "      <td>9988021</td>\n",
       "      <td>580560515_7732621733</td>\n",
       "      <td>781255054_21935453173_531117</td>\n",
       "      <td>step_3</td>\n",
       "      <td>2017-04-17 15:18:04</td>\n",
       "    </tr>\n",
       "  </tbody>\n",
       "</table>\n",
       "</div>"
      ],
      "text/plain": [
       "   client_id            visitor_id                      visit_id process_step  \\\n",
       "0    9988021  580560515_7732621733  781255054_21935453173_531117       step_3   \n",
       "1    9988021  580560515_7732621733  781255054_21935453173_531117       step_2   \n",
       "2    9988021  580560515_7732621733  781255054_21935453173_531117       step_3   \n",
       "3    9988021  580560515_7732621733  781255054_21935453173_531117       step_2   \n",
       "4    9988021  580560515_7732621733  781255054_21935453173_531117       step_3   \n",
       "\n",
       "             date_time  \n",
       "0  2017-04-17 15:27:07  \n",
       "1  2017-04-17 15:26:51  \n",
       "2  2017-04-17 15:19:22  \n",
       "3  2017-04-17 15:19:13  \n",
       "4  2017-04-17 15:18:04  "
      ]
     },
     "execution_count": 21,
     "metadata": {},
     "output_type": "execute_result"
    }
   ],
   "source": [
    "web_1.head()"
   ]
  },
  {
   "cell_type": "code",
   "execution_count": 22,
   "id": "61702beb-a496-46c0-9a57-34af4a1442a4",
   "metadata": {},
   "outputs": [
    {
     "name": "stdout",
     "output_type": "stream",
     "text": [
      "<class 'pandas.core.frame.DataFrame'>\n",
      "RangeIndex: 412264 entries, 0 to 412263\n",
      "Data columns (total 5 columns):\n",
      " #   Column        Non-Null Count   Dtype \n",
      "---  ------        --------------   ----- \n",
      " 0   client_id     412264 non-null  int64 \n",
      " 1   visitor_id    412264 non-null  object\n",
      " 2   visit_id      412264 non-null  object\n",
      " 3   process_step  412264 non-null  object\n",
      " 4   date_time     412264 non-null  object\n",
      "dtypes: int64(1), object(4)\n",
      "memory usage: 15.7+ MB\n"
     ]
    }
   ],
   "source": [
    "web_2.info()"
   ]
  },
  {
   "cell_type": "code",
   "execution_count": 23,
   "id": "c5731494-8c18-457c-b8e8-a8e7699f89cd",
   "metadata": {},
   "outputs": [],
   "source": [
    "# Unir ambos dataframes.\n",
    "concat = pd.concat([web_1, web_2], ignore_index=True)"
   ]
  },
  {
   "cell_type": "code",
   "execution_count": 24,
   "id": "e17b7691-2c4b-4875-b913-73f84a327c99",
   "metadata": {},
   "outputs": [
    {
     "data": {
      "text/plain": [
       "(755405, 5)"
      ]
     },
     "execution_count": 24,
     "metadata": {},
     "output_type": "execute_result"
    }
   ],
   "source": [
    "concat.shape"
   ]
  },
  {
   "cell_type": "code",
   "execution_count": 25,
   "id": "75bbf7b3-6ebc-4571-9978-b40455005c3d",
   "metadata": {},
   "outputs": [
    {
     "data": {
      "text/plain": [
       "10764"
      ]
     },
     "execution_count": 25,
     "metadata": {},
     "output_type": "execute_result"
    }
   ],
   "source": [
    "# Check cuantos duplicados tiene. \n",
    "duplicates = concat.duplicated().sum()\n",
    "duplicates"
   ]
  },
  {
   "cell_type": "code",
   "execution_count": 26,
   "id": "26166503-d3c1-4cf3-b816-6a7ada4c1869",
   "metadata": {},
   "outputs": [
    {
     "data": {
      "text/html": [
       "<div>\n",
       "<style scoped>\n",
       "    .dataframe tbody tr th:only-of-type {\n",
       "        vertical-align: middle;\n",
       "    }\n",
       "\n",
       "    .dataframe tbody tr th {\n",
       "        vertical-align: top;\n",
       "    }\n",
       "\n",
       "    .dataframe thead th {\n",
       "        text-align: right;\n",
       "    }\n",
       "</style>\n",
       "<table border=\"1\" class=\"dataframe\">\n",
       "  <thead>\n",
       "    <tr style=\"text-align: right;\">\n",
       "      <th></th>\n",
       "      <th>client_id</th>\n",
       "      <th>visitor_id</th>\n",
       "      <th>visit_id</th>\n",
       "      <th>process_step</th>\n",
       "      <th>date_time</th>\n",
       "    </tr>\n",
       "  </thead>\n",
       "  <tbody>\n",
       "    <tr>\n",
       "      <th>0</th>\n",
       "      <td>9988021</td>\n",
       "      <td>580560515_7732621733</td>\n",
       "      <td>781255054_21935453173_531117</td>\n",
       "      <td>step_3</td>\n",
       "      <td>2017-04-17 15:27:07</td>\n",
       "    </tr>\n",
       "    <tr>\n",
       "      <th>1</th>\n",
       "      <td>9988021</td>\n",
       "      <td>580560515_7732621733</td>\n",
       "      <td>781255054_21935453173_531117</td>\n",
       "      <td>step_2</td>\n",
       "      <td>2017-04-17 15:26:51</td>\n",
       "    </tr>\n",
       "    <tr>\n",
       "      <th>2</th>\n",
       "      <td>9988021</td>\n",
       "      <td>580560515_7732621733</td>\n",
       "      <td>781255054_21935453173_531117</td>\n",
       "      <td>step_3</td>\n",
       "      <td>2017-04-17 15:19:22</td>\n",
       "    </tr>\n",
       "    <tr>\n",
       "      <th>3</th>\n",
       "      <td>9988021</td>\n",
       "      <td>580560515_7732621733</td>\n",
       "      <td>781255054_21935453173_531117</td>\n",
       "      <td>step_2</td>\n",
       "      <td>2017-04-17 15:19:13</td>\n",
       "    </tr>\n",
       "    <tr>\n",
       "      <th>4</th>\n",
       "      <td>9988021</td>\n",
       "      <td>580560515_7732621733</td>\n",
       "      <td>781255054_21935453173_531117</td>\n",
       "      <td>step_3</td>\n",
       "      <td>2017-04-17 15:18:04</td>\n",
       "    </tr>\n",
       "  </tbody>\n",
       "</table>\n",
       "</div>"
      ],
      "text/plain": [
       "   client_id            visitor_id                      visit_id process_step  \\\n",
       "0    9988021  580560515_7732621733  781255054_21935453173_531117       step_3   \n",
       "1    9988021  580560515_7732621733  781255054_21935453173_531117       step_2   \n",
       "2    9988021  580560515_7732621733  781255054_21935453173_531117       step_3   \n",
       "3    9988021  580560515_7732621733  781255054_21935453173_531117       step_2   \n",
       "4    9988021  580560515_7732621733  781255054_21935453173_531117       step_3   \n",
       "\n",
       "             date_time  \n",
       "0  2017-04-17 15:27:07  \n",
       "1  2017-04-17 15:26:51  \n",
       "2  2017-04-17 15:19:22  \n",
       "3  2017-04-17 15:19:13  \n",
       "4  2017-04-17 15:18:04  "
      ]
     },
     "execution_count": 26,
     "metadata": {},
     "output_type": "execute_result"
    }
   ],
   "source": [
    "concat.head()"
   ]
  },
  {
   "cell_type": "code",
   "execution_count": 27,
   "id": "536b888b-5e99-42bc-badf-39d2be14a627",
   "metadata": {},
   "outputs": [],
   "source": [
    "# Eliminar duplicados. \n",
    "webs = concat.drop_duplicates()"
   ]
  },
  {
   "cell_type": "code",
   "execution_count": 28,
   "id": "b9289371-5cc8-4a57-a818-5bcf730dcfc0",
   "metadata": {},
   "outputs": [
    {
     "data": {
      "text/plain": [
       "(744641, 5)"
      ]
     },
     "execution_count": 28,
     "metadata": {},
     "output_type": "execute_result"
    }
   ],
   "source": [
    "webs.shape"
   ]
  },
  {
   "cell_type": "code",
   "execution_count": 257,
   "id": "5471471b-9a07-4b70-ab2e-405be7e899f3",
   "metadata": {},
   "outputs": [],
   "source": [
    "#webs.to_csv('webs_ok.csv', index=False)"
   ]
  },
  {
   "cell_type": "code",
   "execution_count": 239,
   "id": "ba932390-3290-4e5c-bf1b-6798d62542d9",
   "metadata": {},
   "outputs": [],
   "source": [
    "#experiment.to_csv('experiment.csv', index=False)"
   ]
  },
  {
   "cell_type": "code",
   "execution_count": 240,
   "id": "44aa3cc9-ed09-4253-bb2f-ee4c7104e3c6",
   "metadata": {},
   "outputs": [],
   "source": [
    "#clients.to_csv('client.csv', index=False)"
   ]
  },
  {
   "cell_type": "markdown",
   "id": "465d1971-1fc5-4452-af18-6c8a0fb49056",
   "metadata": {
    "jp-MarkdownHeadingCollapsed": true
   },
   "source": [
    "# Questions about demographics:"
   ]
  },
  {
   "cell_type": "markdown",
   "id": "470314ca-5fe4-4ca2-862a-a4792a2e1b8e",
   "metadata": {},
   "source": [
    "`Who are the primary clients using this online process?`"
   ]
  },
  {
   "cell_type": "code",
   "execution_count": 29,
   "id": "ebec4ef9-7424-405c-a35d-94d4a8222f2a",
   "metadata": {},
   "outputs": [
    {
     "data": {
      "text/html": [
       "<div>\n",
       "<style scoped>\n",
       "    .dataframe tbody tr th:only-of-type {\n",
       "        vertical-align: middle;\n",
       "    }\n",
       "\n",
       "    .dataframe tbody tr th {\n",
       "        vertical-align: top;\n",
       "    }\n",
       "\n",
       "    .dataframe thead th {\n",
       "        text-align: right;\n",
       "    }\n",
       "</style>\n",
       "<table border=\"1\" class=\"dataframe\">\n",
       "  <thead>\n",
       "    <tr style=\"text-align: right;\">\n",
       "      <th></th>\n",
       "      <th>client_id</th>\n",
       "      <th>clnt_tenure_yr</th>\n",
       "      <th>clnt_tenure_mnth</th>\n",
       "      <th>clnt_age</th>\n",
       "      <th>gender</th>\n",
       "      <th>num_accounts</th>\n",
       "      <th>balance</th>\n",
       "      <th>calls_6_mnth</th>\n",
       "      <th>logons_6_mnth</th>\n",
       "    </tr>\n",
       "  </thead>\n",
       "  <tbody>\n",
       "    <tr>\n",
       "      <th>0</th>\n",
       "      <td>836976</td>\n",
       "      <td>6.0</td>\n",
       "      <td>73.0</td>\n",
       "      <td>60.5</td>\n",
       "      <td>U</td>\n",
       "      <td>2.0</td>\n",
       "      <td>45105.30</td>\n",
       "      <td>6.0</td>\n",
       "      <td>9.0</td>\n",
       "    </tr>\n",
       "    <tr>\n",
       "      <th>1</th>\n",
       "      <td>2304905</td>\n",
       "      <td>7.0</td>\n",
       "      <td>94.0</td>\n",
       "      <td>58.0</td>\n",
       "      <td>U</td>\n",
       "      <td>2.0</td>\n",
       "      <td>110860.30</td>\n",
       "      <td>6.0</td>\n",
       "      <td>9.0</td>\n",
       "    </tr>\n",
       "    <tr>\n",
       "      <th>2</th>\n",
       "      <td>1439522</td>\n",
       "      <td>5.0</td>\n",
       "      <td>64.0</td>\n",
       "      <td>32.0</td>\n",
       "      <td>U</td>\n",
       "      <td>2.0</td>\n",
       "      <td>52467.79</td>\n",
       "      <td>6.0</td>\n",
       "      <td>9.0</td>\n",
       "    </tr>\n",
       "    <tr>\n",
       "      <th>3</th>\n",
       "      <td>1562045</td>\n",
       "      <td>16.0</td>\n",
       "      <td>198.0</td>\n",
       "      <td>49.0</td>\n",
       "      <td>M</td>\n",
       "      <td>2.0</td>\n",
       "      <td>67454.65</td>\n",
       "      <td>3.0</td>\n",
       "      <td>6.0</td>\n",
       "    </tr>\n",
       "    <tr>\n",
       "      <th>4</th>\n",
       "      <td>5126305</td>\n",
       "      <td>12.0</td>\n",
       "      <td>145.0</td>\n",
       "      <td>33.0</td>\n",
       "      <td>F</td>\n",
       "      <td>2.0</td>\n",
       "      <td>103671.75</td>\n",
       "      <td>0.0</td>\n",
       "      <td>3.0</td>\n",
       "    </tr>\n",
       "  </tbody>\n",
       "</table>\n",
       "</div>"
      ],
      "text/plain": [
       "   client_id  clnt_tenure_yr  clnt_tenure_mnth  clnt_age gender  num_accounts  \\\n",
       "0     836976             6.0              73.0      60.5      U           2.0   \n",
       "1    2304905             7.0              94.0      58.0      U           2.0   \n",
       "2    1439522             5.0              64.0      32.0      U           2.0   \n",
       "3    1562045            16.0             198.0      49.0      M           2.0   \n",
       "4    5126305            12.0             145.0      33.0      F           2.0   \n",
       "\n",
       "     balance  calls_6_mnth  logons_6_mnth  \n",
       "0   45105.30           6.0            9.0  \n",
       "1  110860.30           6.0            9.0  \n",
       "2   52467.79           6.0            9.0  \n",
       "3   67454.65           3.0            6.0  \n",
       "4  103671.75           0.0            3.0  "
      ]
     },
     "execution_count": 29,
     "metadata": {},
     "output_type": "execute_result"
    }
   ],
   "source": [
    "clients.head()"
   ]
  },
  {
   "cell_type": "code",
   "execution_count": 30,
   "id": "facefa42-7ef3-4350-9f80-87cb20e00094",
   "metadata": {},
   "outputs": [],
   "source": [
    "primary_clnt_tenure = clients.sort_values(by=\"clnt_tenure_yr\", ascending=False).head(100)"
   ]
  },
  {
   "cell_type": "code",
   "execution_count": 31,
   "id": "aaa75cd7-77e6-408d-9417-da924994da87",
   "metadata": {},
   "outputs": [
    {
     "data": {
      "text/html": [
       "<div>\n",
       "<style scoped>\n",
       "    .dataframe tbody tr th:only-of-type {\n",
       "        vertical-align: middle;\n",
       "    }\n",
       "\n",
       "    .dataframe tbody tr th {\n",
       "        vertical-align: top;\n",
       "    }\n",
       "\n",
       "    .dataframe thead th {\n",
       "        text-align: right;\n",
       "    }\n",
       "</style>\n",
       "<table border=\"1\" class=\"dataframe\">\n",
       "  <thead>\n",
       "    <tr style=\"text-align: right;\">\n",
       "      <th></th>\n",
       "      <th>client_id</th>\n",
       "      <th>clnt_tenure_yr</th>\n",
       "      <th>clnt_tenure_mnth</th>\n",
       "      <th>clnt_age</th>\n",
       "      <th>gender</th>\n",
       "      <th>num_accounts</th>\n",
       "      <th>balance</th>\n",
       "      <th>calls_6_mnth</th>\n",
       "      <th>logons_6_mnth</th>\n",
       "    </tr>\n",
       "  </thead>\n",
       "  <tbody>\n",
       "    <tr>\n",
       "      <th>64690</th>\n",
       "      <td>357409</td>\n",
       "      <td>62.0</td>\n",
       "      <td>749.0</td>\n",
       "      <td>51.0</td>\n",
       "      <td>F</td>\n",
       "      <td>2.0</td>\n",
       "      <td>317681.78</td>\n",
       "      <td>4.0</td>\n",
       "      <td>4.0</td>\n",
       "    </tr>\n",
       "    <tr>\n",
       "      <th>12871</th>\n",
       "      <td>3271450</td>\n",
       "      <td>55.0</td>\n",
       "      <td>669.0</td>\n",
       "      <td>48.5</td>\n",
       "      <td>M</td>\n",
       "      <td>4.0</td>\n",
       "      <td>219932.98</td>\n",
       "      <td>0.0</td>\n",
       "      <td>3.0</td>\n",
       "    </tr>\n",
       "    <tr>\n",
       "      <th>56608</th>\n",
       "      <td>6743983</td>\n",
       "      <td>55.0</td>\n",
       "      <td>668.0</td>\n",
       "      <td>46.0</td>\n",
       "      <td>F</td>\n",
       "      <td>2.0</td>\n",
       "      <td>962741.20</td>\n",
       "      <td>6.0</td>\n",
       "      <td>6.0</td>\n",
       "    </tr>\n",
       "    <tr>\n",
       "      <th>30335</th>\n",
       "      <td>7616896</td>\n",
       "      <td>55.0</td>\n",
       "      <td>669.0</td>\n",
       "      <td>78.0</td>\n",
       "      <td>U</td>\n",
       "      <td>2.0</td>\n",
       "      <td>45780.56</td>\n",
       "      <td>5.0</td>\n",
       "      <td>8.0</td>\n",
       "    </tr>\n",
       "    <tr>\n",
       "      <th>11329</th>\n",
       "      <td>4833584</td>\n",
       "      <td>55.0</td>\n",
       "      <td>669.0</td>\n",
       "      <td>45.0</td>\n",
       "      <td>M</td>\n",
       "      <td>4.0</td>\n",
       "      <td>718973.76</td>\n",
       "      <td>6.0</td>\n",
       "      <td>9.0</td>\n",
       "    </tr>\n",
       "  </tbody>\n",
       "</table>\n",
       "</div>"
      ],
      "text/plain": [
       "       client_id  clnt_tenure_yr  clnt_tenure_mnth  clnt_age gender  \\\n",
       "64690     357409            62.0             749.0      51.0      F   \n",
       "12871    3271450            55.0             669.0      48.5      M   \n",
       "56608    6743983            55.0             668.0      46.0      F   \n",
       "30335    7616896            55.0             669.0      78.0      U   \n",
       "11329    4833584            55.0             669.0      45.0      M   \n",
       "\n",
       "       num_accounts    balance  calls_6_mnth  logons_6_mnth  \n",
       "64690           2.0  317681.78           4.0            4.0  \n",
       "12871           4.0  219932.98           0.0            3.0  \n",
       "56608           2.0  962741.20           6.0            6.0  \n",
       "30335           2.0   45780.56           5.0            8.0  \n",
       "11329           4.0  718973.76           6.0            9.0  "
      ]
     },
     "execution_count": 31,
     "metadata": {},
     "output_type": "execute_result"
    }
   ],
   "source": [
    "primary_clnt_tenure.head()"
   ]
  },
  {
   "cell_type": "code",
   "execution_count": 32,
   "id": "2d44e4e8-ae8c-4978-b9b6-d34f06d65069",
   "metadata": {},
   "outputs": [],
   "source": [
    "primary_clnt_balance = clients.sort_values(by='balance', ascending=False).head(100)"
   ]
  },
  {
   "cell_type": "code",
   "execution_count": 33,
   "id": "9b065563-1c50-4d48-aa5e-b8cb2b54cc0d",
   "metadata": {},
   "outputs": [
    {
     "data": {
      "text/html": [
       "<div>\n",
       "<style scoped>\n",
       "    .dataframe tbody tr th:only-of-type {\n",
       "        vertical-align: middle;\n",
       "    }\n",
       "\n",
       "    .dataframe tbody tr th {\n",
       "        vertical-align: top;\n",
       "    }\n",
       "\n",
       "    .dataframe thead th {\n",
       "        text-align: right;\n",
       "    }\n",
       "</style>\n",
       "<table border=\"1\" class=\"dataframe\">\n",
       "  <thead>\n",
       "    <tr style=\"text-align: right;\">\n",
       "      <th></th>\n",
       "      <th>client_id</th>\n",
       "      <th>clnt_tenure_yr</th>\n",
       "      <th>clnt_tenure_mnth</th>\n",
       "      <th>clnt_age</th>\n",
       "      <th>gender</th>\n",
       "      <th>num_accounts</th>\n",
       "      <th>balance</th>\n",
       "      <th>calls_6_mnth</th>\n",
       "      <th>logons_6_mnth</th>\n",
       "    </tr>\n",
       "  </thead>\n",
       "  <tbody>\n",
       "    <tr>\n",
       "      <th>39367</th>\n",
       "      <td>9286288</td>\n",
       "      <td>21.0</td>\n",
       "      <td>254.0</td>\n",
       "      <td>62.5</td>\n",
       "      <td>M</td>\n",
       "      <td>3.0</td>\n",
       "      <td>16320040.15</td>\n",
       "      <td>6.0</td>\n",
       "      <td>9.0</td>\n",
       "    </tr>\n",
       "    <tr>\n",
       "      <th>63746</th>\n",
       "      <td>8339240</td>\n",
       "      <td>6.0</td>\n",
       "      <td>80.0</td>\n",
       "      <td>26.5</td>\n",
       "      <td>M</td>\n",
       "      <td>2.0</td>\n",
       "      <td>12838418.01</td>\n",
       "      <td>3.0</td>\n",
       "      <td>3.0</td>\n",
       "    </tr>\n",
       "    <tr>\n",
       "      <th>23849</th>\n",
       "      <td>7070097</td>\n",
       "      <td>11.0</td>\n",
       "      <td>133.0</td>\n",
       "      <td>53.0</td>\n",
       "      <td>M</td>\n",
       "      <td>2.0</td>\n",
       "      <td>8986419.77</td>\n",
       "      <td>6.0</td>\n",
       "      <td>9.0</td>\n",
       "    </tr>\n",
       "    <tr>\n",
       "      <th>13318</th>\n",
       "      <td>9440656</td>\n",
       "      <td>7.0</td>\n",
       "      <td>94.0</td>\n",
       "      <td>63.0</td>\n",
       "      <td>F</td>\n",
       "      <td>2.0</td>\n",
       "      <td>8292996.21</td>\n",
       "      <td>6.0</td>\n",
       "      <td>9.0</td>\n",
       "    </tr>\n",
       "    <tr>\n",
       "      <th>2171</th>\n",
       "      <td>2291985</td>\n",
       "      <td>7.0</td>\n",
       "      <td>85.0</td>\n",
       "      <td>41.0</td>\n",
       "      <td>M</td>\n",
       "      <td>2.0</td>\n",
       "      <td>8247729.97</td>\n",
       "      <td>1.0</td>\n",
       "      <td>4.0</td>\n",
       "    </tr>\n",
       "  </tbody>\n",
       "</table>\n",
       "</div>"
      ],
      "text/plain": [
       "       client_id  clnt_tenure_yr  clnt_tenure_mnth  clnt_age gender  \\\n",
       "39367    9286288            21.0             254.0      62.5      M   \n",
       "63746    8339240             6.0              80.0      26.5      M   \n",
       "23849    7070097            11.0             133.0      53.0      M   \n",
       "13318    9440656             7.0              94.0      63.0      F   \n",
       "2171     2291985             7.0              85.0      41.0      M   \n",
       "\n",
       "       num_accounts      balance  calls_6_mnth  logons_6_mnth  \n",
       "39367           3.0  16320040.15           6.0            9.0  \n",
       "63746           2.0  12838418.01           3.0            3.0  \n",
       "23849           2.0   8986419.77           6.0            9.0  \n",
       "13318           2.0   8292996.21           6.0            9.0  \n",
       "2171            2.0   8247729.97           1.0            4.0  "
      ]
     },
     "execution_count": 33,
     "metadata": {},
     "output_type": "execute_result"
    }
   ],
   "source": [
    "primary_clnt_balance.head()"
   ]
  },
  {
   "cell_type": "markdown",
   "id": "d454b700-b62f-4053-b3cf-8967f5278fb6",
   "metadata": {},
   "source": [
    "Based on the assumption that all of Vanguard's clients use the online process, we define primary clients as those with the longest tenure and those with the highest balance.\n",
    "\n",
    "---\n",
    "\n",
    "Partiendo de la base de que todos los clientes de Vanguard’s usan el proceso online, definimos que los primary clients son aquellos que tienen una permanencia en años de más tiempo y aquellos que cuentan con un balance superior. "
   ]
  },
  {
   "cell_type": "markdown",
   "id": "872ff911-71a7-4533-af66-1051cdbcdb50",
   "metadata": {},
   "source": [
    "`Are the primary clients younger or older, new or long-standing?`"
   ]
  },
  {
   "cell_type": "code",
   "execution_count": 34,
   "id": "7e041768-0cb2-4a7b-a4d5-b77c2a8eab38",
   "metadata": {},
   "outputs": [],
   "source": [
    "primary_clients = pd.concat([primary_clnt_tenure, primary_clnt_balance], ignore_index=True)"
   ]
  },
  {
   "cell_type": "code",
   "execution_count": 35,
   "id": "1d813e0a-46e6-4dbb-97d0-32705cb725b8",
   "metadata": {},
   "outputs": [
    {
     "data": {
      "text/html": [
       "<div>\n",
       "<style scoped>\n",
       "    .dataframe tbody tr th:only-of-type {\n",
       "        vertical-align: middle;\n",
       "    }\n",
       "\n",
       "    .dataframe tbody tr th {\n",
       "        vertical-align: top;\n",
       "    }\n",
       "\n",
       "    .dataframe thead th {\n",
       "        text-align: right;\n",
       "    }\n",
       "</style>\n",
       "<table border=\"1\" class=\"dataframe\">\n",
       "  <thead>\n",
       "    <tr style=\"text-align: right;\">\n",
       "      <th></th>\n",
       "      <th>client_id</th>\n",
       "      <th>clnt_tenure_yr</th>\n",
       "      <th>clnt_tenure_mnth</th>\n",
       "      <th>clnt_age</th>\n",
       "      <th>gender</th>\n",
       "      <th>num_accounts</th>\n",
       "      <th>balance</th>\n",
       "      <th>calls_6_mnth</th>\n",
       "      <th>logons_6_mnth</th>\n",
       "    </tr>\n",
       "  </thead>\n",
       "  <tbody>\n",
       "    <tr>\n",
       "      <th>0</th>\n",
       "      <td>357409</td>\n",
       "      <td>62.0</td>\n",
       "      <td>749.0</td>\n",
       "      <td>51.0</td>\n",
       "      <td>F</td>\n",
       "      <td>2.0</td>\n",
       "      <td>317681.78</td>\n",
       "      <td>4.0</td>\n",
       "      <td>4.0</td>\n",
       "    </tr>\n",
       "    <tr>\n",
       "      <th>1</th>\n",
       "      <td>3271450</td>\n",
       "      <td>55.0</td>\n",
       "      <td>669.0</td>\n",
       "      <td>48.5</td>\n",
       "      <td>M</td>\n",
       "      <td>4.0</td>\n",
       "      <td>219932.98</td>\n",
       "      <td>0.0</td>\n",
       "      <td>3.0</td>\n",
       "    </tr>\n",
       "    <tr>\n",
       "      <th>2</th>\n",
       "      <td>6743983</td>\n",
       "      <td>55.0</td>\n",
       "      <td>668.0</td>\n",
       "      <td>46.0</td>\n",
       "      <td>F</td>\n",
       "      <td>2.0</td>\n",
       "      <td>962741.20</td>\n",
       "      <td>6.0</td>\n",
       "      <td>6.0</td>\n",
       "    </tr>\n",
       "    <tr>\n",
       "      <th>3</th>\n",
       "      <td>7616896</td>\n",
       "      <td>55.0</td>\n",
       "      <td>669.0</td>\n",
       "      <td>78.0</td>\n",
       "      <td>U</td>\n",
       "      <td>2.0</td>\n",
       "      <td>45780.56</td>\n",
       "      <td>5.0</td>\n",
       "      <td>8.0</td>\n",
       "    </tr>\n",
       "    <tr>\n",
       "      <th>4</th>\n",
       "      <td>4833584</td>\n",
       "      <td>55.0</td>\n",
       "      <td>669.0</td>\n",
       "      <td>45.0</td>\n",
       "      <td>M</td>\n",
       "      <td>4.0</td>\n",
       "      <td>718973.76</td>\n",
       "      <td>6.0</td>\n",
       "      <td>9.0</td>\n",
       "    </tr>\n",
       "  </tbody>\n",
       "</table>\n",
       "</div>"
      ],
      "text/plain": [
       "   client_id  clnt_tenure_yr  clnt_tenure_mnth  clnt_age gender  num_accounts  \\\n",
       "0     357409            62.0             749.0      51.0      F           2.0   \n",
       "1    3271450            55.0             669.0      48.5      M           4.0   \n",
       "2    6743983            55.0             668.0      46.0      F           2.0   \n",
       "3    7616896            55.0             669.0      78.0      U           2.0   \n",
       "4    4833584            55.0             669.0      45.0      M           4.0   \n",
       "\n",
       "     balance  calls_6_mnth  logons_6_mnth  \n",
       "0  317681.78           4.0            4.0  \n",
       "1  219932.98           0.0            3.0  \n",
       "2  962741.20           6.0            6.0  \n",
       "3   45780.56           5.0            8.0  \n",
       "4  718973.76           6.0            9.0  "
      ]
     },
     "execution_count": 35,
     "metadata": {},
     "output_type": "execute_result"
    }
   ],
   "source": [
    "primary_clients.head()"
   ]
  },
  {
   "cell_type": "code",
   "execution_count": 36,
   "id": "fb52b823-1adf-4295-ae0f-bc4ba88e3be6",
   "metadata": {},
   "outputs": [
    {
     "data": {
      "text/plain": [
       "0      False\n",
       "1      False\n",
       "2      False\n",
       "3      False\n",
       "4      False\n",
       "       ...  \n",
       "195    False\n",
       "196    False\n",
       "197    False\n",
       "198    False\n",
       "199    False\n",
       "Length: 200, dtype: bool"
      ]
     },
     "execution_count": 36,
     "metadata": {},
     "output_type": "execute_result"
    }
   ],
   "source": [
    "primary_clients.duplicated()"
   ]
  },
  {
   "cell_type": "code",
   "execution_count": 37,
   "id": "e7208700-13e1-4ba0-a622-664cf58e6716",
   "metadata": {},
   "outputs": [],
   "source": [
    "# To see the ages of the primary clients\n",
    "unique_clnt_age = primary_clients[\"clnt_age\"].unique()\n",
    "unique_clnt_age_sorted = sorted(unique_clnt_age, reverse=True)"
   ]
  },
  {
   "cell_type": "code",
   "execution_count": 38,
   "id": "b5ab4dc5-205e-4f04-a175-83195a5c3751",
   "metadata": {},
   "outputs": [],
   "source": [
    "# Fuction to filter per age.\n",
    "\n",
    "def get_age_group(age):\n",
    "    if age >= 18 and age <= 30:\n",
    "        return 'youth'\n",
    "    elif age >= 31 and age <= 50:\n",
    "        return 'adulthood'\n",
    "    else:\n",
    "        return 'older'\n",
    "\n",
    "# Create the new column 'age_group' by applying the function to the column 'clnt_age'.\n",
    "primary_clients['age_group'] = primary_clients['clnt_age'].apply(get_age_group)"
   ]
  },
  {
   "cell_type": "code",
   "execution_count": 39,
   "id": "c0d96e28-8975-4d38-af1d-24b14f548feb",
   "metadata": {},
   "outputs": [
    {
     "data": {
      "text/html": [
       "<div>\n",
       "<style scoped>\n",
       "    .dataframe tbody tr th:only-of-type {\n",
       "        vertical-align: middle;\n",
       "    }\n",
       "\n",
       "    .dataframe tbody tr th {\n",
       "        vertical-align: top;\n",
       "    }\n",
       "\n",
       "    .dataframe thead th {\n",
       "        text-align: right;\n",
       "    }\n",
       "</style>\n",
       "<table border=\"1\" class=\"dataframe\">\n",
       "  <thead>\n",
       "    <tr style=\"text-align: right;\">\n",
       "      <th></th>\n",
       "      <th>client_id</th>\n",
       "      <th>clnt_tenure_yr</th>\n",
       "      <th>clnt_tenure_mnth</th>\n",
       "      <th>clnt_age</th>\n",
       "      <th>gender</th>\n",
       "      <th>num_accounts</th>\n",
       "      <th>balance</th>\n",
       "      <th>calls_6_mnth</th>\n",
       "      <th>logons_6_mnth</th>\n",
       "      <th>age_group</th>\n",
       "    </tr>\n",
       "  </thead>\n",
       "  <tbody>\n",
       "    <tr>\n",
       "      <th>0</th>\n",
       "      <td>357409</td>\n",
       "      <td>62.0</td>\n",
       "      <td>749.0</td>\n",
       "      <td>51.0</td>\n",
       "      <td>F</td>\n",
       "      <td>2.0</td>\n",
       "      <td>317681.78</td>\n",
       "      <td>4.0</td>\n",
       "      <td>4.0</td>\n",
       "      <td>older</td>\n",
       "    </tr>\n",
       "    <tr>\n",
       "      <th>1</th>\n",
       "      <td>3271450</td>\n",
       "      <td>55.0</td>\n",
       "      <td>669.0</td>\n",
       "      <td>48.5</td>\n",
       "      <td>M</td>\n",
       "      <td>4.0</td>\n",
       "      <td>219932.98</td>\n",
       "      <td>0.0</td>\n",
       "      <td>3.0</td>\n",
       "      <td>adulthood</td>\n",
       "    </tr>\n",
       "    <tr>\n",
       "      <th>2</th>\n",
       "      <td>6743983</td>\n",
       "      <td>55.0</td>\n",
       "      <td>668.0</td>\n",
       "      <td>46.0</td>\n",
       "      <td>F</td>\n",
       "      <td>2.0</td>\n",
       "      <td>962741.20</td>\n",
       "      <td>6.0</td>\n",
       "      <td>6.0</td>\n",
       "      <td>adulthood</td>\n",
       "    </tr>\n",
       "    <tr>\n",
       "      <th>3</th>\n",
       "      <td>7616896</td>\n",
       "      <td>55.0</td>\n",
       "      <td>669.0</td>\n",
       "      <td>78.0</td>\n",
       "      <td>U</td>\n",
       "      <td>2.0</td>\n",
       "      <td>45780.56</td>\n",
       "      <td>5.0</td>\n",
       "      <td>8.0</td>\n",
       "      <td>older</td>\n",
       "    </tr>\n",
       "    <tr>\n",
       "      <th>4</th>\n",
       "      <td>4833584</td>\n",
       "      <td>55.0</td>\n",
       "      <td>669.0</td>\n",
       "      <td>45.0</td>\n",
       "      <td>M</td>\n",
       "      <td>4.0</td>\n",
       "      <td>718973.76</td>\n",
       "      <td>6.0</td>\n",
       "      <td>9.0</td>\n",
       "      <td>adulthood</td>\n",
       "    </tr>\n",
       "  </tbody>\n",
       "</table>\n",
       "</div>"
      ],
      "text/plain": [
       "   client_id  clnt_tenure_yr  clnt_tenure_mnth  clnt_age gender  num_accounts  \\\n",
       "0     357409            62.0             749.0      51.0      F           2.0   \n",
       "1    3271450            55.0             669.0      48.5      M           4.0   \n",
       "2    6743983            55.0             668.0      46.0      F           2.0   \n",
       "3    7616896            55.0             669.0      78.0      U           2.0   \n",
       "4    4833584            55.0             669.0      45.0      M           4.0   \n",
       "\n",
       "     balance  calls_6_mnth  logons_6_mnth  age_group  \n",
       "0  317681.78           4.0            4.0      older  \n",
       "1  219932.98           0.0            3.0  adulthood  \n",
       "2  962741.20           6.0            6.0  adulthood  \n",
       "3   45780.56           5.0            8.0      older  \n",
       "4  718973.76           6.0            9.0  adulthood  "
      ]
     },
     "execution_count": 39,
     "metadata": {},
     "output_type": "execute_result"
    }
   ],
   "source": [
    "primary_clients.head()"
   ]
  },
  {
   "cell_type": "code",
   "execution_count": 40,
   "id": "9174d879-aa46-435e-b198-bdabb8bfbab8",
   "metadata": {},
   "outputs": [
    {
     "data": {
      "text/plain": [
       "age_group\n",
       "older        154\n",
       "adulthood     43\n",
       "youth          3\n",
       "Name: count, dtype: int64"
      ]
     },
     "execution_count": 40,
     "metadata": {},
     "output_type": "execute_result"
    }
   ],
   "source": [
    "# Count of primary clients per age_group.\n",
    "primary_clients[\"age_group\"].value_counts()"
   ]
  },
  {
   "cell_type": "markdown",
   "id": "b5476e24-b144-456d-8ccc-9ed16d29e4b6",
   "metadata": {},
   "source": [
    "`Los primary clients suelen ser older.`"
   ]
  },
  {
   "cell_type": "code",
   "execution_count": 41,
   "id": "9f61de5e-d45b-4264-9a6f-8a3c7caf188b",
   "metadata": {},
   "outputs": [],
   "source": [
    "unique_clnt_tenure_yr = primary_clients[\"clnt_tenure_yr\"].unique()\n",
    "unique_clnt_tenure_yr = sorted(unique_clnt_tenure_yr, reverse=True)"
   ]
  },
  {
   "cell_type": "code",
   "execution_count": 42,
   "id": "77cbb245-3bf1-4a13-862f-5269a7261c11",
   "metadata": {},
   "outputs": [],
   "source": [
    "def get_tenure_yr(tenure):\n",
    "    if tenure >= 1 and tenure <= 10:\n",
    "        return 'new'\n",
    "    elif tenure >= 11 and tenure <= 20:\n",
    "        return 'mid stand'\n",
    "    else:\n",
    "        return 'long stand'\n",
    "\n",
    "# Create the new column 'age_group' by applying the function to the column 'clnt_age'.\n",
    "primary_clients['tenure_group'] = primary_clients['clnt_tenure_yr'].apply(get_tenure_yr)"
   ]
  },
  {
   "cell_type": "code",
   "execution_count": 43,
   "id": "ea7caa72-d834-4a3f-b579-7443c829f55b",
   "metadata": {},
   "outputs": [
    {
     "data": {
      "text/html": [
       "<div>\n",
       "<style scoped>\n",
       "    .dataframe tbody tr th:only-of-type {\n",
       "        vertical-align: middle;\n",
       "    }\n",
       "\n",
       "    .dataframe tbody tr th {\n",
       "        vertical-align: top;\n",
       "    }\n",
       "\n",
       "    .dataframe thead th {\n",
       "        text-align: right;\n",
       "    }\n",
       "</style>\n",
       "<table border=\"1\" class=\"dataframe\">\n",
       "  <thead>\n",
       "    <tr style=\"text-align: right;\">\n",
       "      <th></th>\n",
       "      <th>client_id</th>\n",
       "      <th>clnt_tenure_yr</th>\n",
       "      <th>clnt_tenure_mnth</th>\n",
       "      <th>clnt_age</th>\n",
       "      <th>gender</th>\n",
       "      <th>num_accounts</th>\n",
       "      <th>balance</th>\n",
       "      <th>calls_6_mnth</th>\n",
       "      <th>logons_6_mnth</th>\n",
       "      <th>age_group</th>\n",
       "      <th>tenure_group</th>\n",
       "    </tr>\n",
       "  </thead>\n",
       "  <tbody>\n",
       "    <tr>\n",
       "      <th>0</th>\n",
       "      <td>357409</td>\n",
       "      <td>62.0</td>\n",
       "      <td>749.0</td>\n",
       "      <td>51.0</td>\n",
       "      <td>F</td>\n",
       "      <td>2.0</td>\n",
       "      <td>317681.78</td>\n",
       "      <td>4.0</td>\n",
       "      <td>4.0</td>\n",
       "      <td>older</td>\n",
       "      <td>long stand</td>\n",
       "    </tr>\n",
       "    <tr>\n",
       "      <th>1</th>\n",
       "      <td>3271450</td>\n",
       "      <td>55.0</td>\n",
       "      <td>669.0</td>\n",
       "      <td>48.5</td>\n",
       "      <td>M</td>\n",
       "      <td>4.0</td>\n",
       "      <td>219932.98</td>\n",
       "      <td>0.0</td>\n",
       "      <td>3.0</td>\n",
       "      <td>adulthood</td>\n",
       "      <td>long stand</td>\n",
       "    </tr>\n",
       "    <tr>\n",
       "      <th>2</th>\n",
       "      <td>6743983</td>\n",
       "      <td>55.0</td>\n",
       "      <td>668.0</td>\n",
       "      <td>46.0</td>\n",
       "      <td>F</td>\n",
       "      <td>2.0</td>\n",
       "      <td>962741.20</td>\n",
       "      <td>6.0</td>\n",
       "      <td>6.0</td>\n",
       "      <td>adulthood</td>\n",
       "      <td>long stand</td>\n",
       "    </tr>\n",
       "    <tr>\n",
       "      <th>3</th>\n",
       "      <td>7616896</td>\n",
       "      <td>55.0</td>\n",
       "      <td>669.0</td>\n",
       "      <td>78.0</td>\n",
       "      <td>U</td>\n",
       "      <td>2.0</td>\n",
       "      <td>45780.56</td>\n",
       "      <td>5.0</td>\n",
       "      <td>8.0</td>\n",
       "      <td>older</td>\n",
       "      <td>long stand</td>\n",
       "    </tr>\n",
       "    <tr>\n",
       "      <th>4</th>\n",
       "      <td>4833584</td>\n",
       "      <td>55.0</td>\n",
       "      <td>669.0</td>\n",
       "      <td>45.0</td>\n",
       "      <td>M</td>\n",
       "      <td>4.0</td>\n",
       "      <td>718973.76</td>\n",
       "      <td>6.0</td>\n",
       "      <td>9.0</td>\n",
       "      <td>adulthood</td>\n",
       "      <td>long stand</td>\n",
       "    </tr>\n",
       "  </tbody>\n",
       "</table>\n",
       "</div>"
      ],
      "text/plain": [
       "   client_id  clnt_tenure_yr  clnt_tenure_mnth  clnt_age gender  num_accounts  \\\n",
       "0     357409            62.0             749.0      51.0      F           2.0   \n",
       "1    3271450            55.0             669.0      48.5      M           4.0   \n",
       "2    6743983            55.0             668.0      46.0      F           2.0   \n",
       "3    7616896            55.0             669.0      78.0      U           2.0   \n",
       "4    4833584            55.0             669.0      45.0      M           4.0   \n",
       "\n",
       "     balance  calls_6_mnth  logons_6_mnth  age_group tenure_group  \n",
       "0  317681.78           4.0            4.0      older   long stand  \n",
       "1  219932.98           0.0            3.0  adulthood   long stand  \n",
       "2  962741.20           6.0            6.0  adulthood   long stand  \n",
       "3   45780.56           5.0            8.0      older   long stand  \n",
       "4  718973.76           6.0            9.0  adulthood   long stand  "
      ]
     },
     "execution_count": 43,
     "metadata": {},
     "output_type": "execute_result"
    }
   ],
   "source": [
    "primary_clients.head()"
   ]
  },
  {
   "cell_type": "code",
   "execution_count": 44,
   "id": "148584d3-5984-4e6a-bcb3-c0de4cd60c2b",
   "metadata": {},
   "outputs": [
    {
     "data": {
      "text/plain": [
       "tenure_group\n",
       "long stand    156\n",
       "mid stand      30\n",
       "new            14\n",
       "Name: count, dtype: int64"
      ]
     },
     "execution_count": 44,
     "metadata": {},
     "output_type": "execute_result"
    }
   ],
   "source": [
    "primary_clients[\"tenure_group\"].value_counts()"
   ]
  },
  {
   "cell_type": "code",
   "execution_count": 45,
   "id": "e67b4530-7e82-4f96-9cbe-32865a75dc1f",
   "metadata": {},
   "outputs": [],
   "source": [
    "primary_clients_by_age_tenure = primary_clients.pivot_table(index='tenure_group', columns='age_group', aggfunc='size', fill_value=0)"
   ]
  },
  {
   "cell_type": "code",
   "execution_count": 46,
   "id": "84ab7136-651e-466c-82ec-490c0afa669f",
   "metadata": {},
   "outputs": [
    {
     "data": {
      "text/html": [
       "<div>\n",
       "<style scoped>\n",
       "    .dataframe tbody tr th:only-of-type {\n",
       "        vertical-align: middle;\n",
       "    }\n",
       "\n",
       "    .dataframe tbody tr th {\n",
       "        vertical-align: top;\n",
       "    }\n",
       "\n",
       "    .dataframe thead th {\n",
       "        text-align: right;\n",
       "    }\n",
       "</style>\n",
       "<table border=\"1\" class=\"dataframe\">\n",
       "  <thead>\n",
       "    <tr style=\"text-align: right;\">\n",
       "      <th>age_group</th>\n",
       "      <th>adulthood</th>\n",
       "      <th>older</th>\n",
       "      <th>youth</th>\n",
       "    </tr>\n",
       "    <tr>\n",
       "      <th>tenure_group</th>\n",
       "      <th></th>\n",
       "      <th></th>\n",
       "      <th></th>\n",
       "    </tr>\n",
       "  </thead>\n",
       "  <tbody>\n",
       "    <tr>\n",
       "      <th>long stand</th>\n",
       "      <td>31</td>\n",
       "      <td>123</td>\n",
       "      <td>2</td>\n",
       "    </tr>\n",
       "    <tr>\n",
       "      <th>mid stand</th>\n",
       "      <td>6</td>\n",
       "      <td>24</td>\n",
       "      <td>0</td>\n",
       "    </tr>\n",
       "    <tr>\n",
       "      <th>new</th>\n",
       "      <td>6</td>\n",
       "      <td>7</td>\n",
       "      <td>1</td>\n",
       "    </tr>\n",
       "  </tbody>\n",
       "</table>\n",
       "</div>"
      ],
      "text/plain": [
       "age_group     adulthood  older  youth\n",
       "tenure_group                         \n",
       "long stand           31    123      2\n",
       "mid stand             6     24      0\n",
       "new                   6      7      1"
      ]
     },
     "execution_count": 46,
     "metadata": {},
     "output_type": "execute_result"
    }
   ],
   "source": [
    "primary_clients_by_age_tenure"
   ]
  },
  {
   "cell_type": "code",
   "execution_count": 241,
   "id": "a0850ddc-d5b7-4c4a-825e-440ef9377acf",
   "metadata": {},
   "outputs": [],
   "source": [
    "primary_clients.to_csv(\"primary_clients.csv\", index=False)"
   ]
  },
  {
   "cell_type": "markdown",
   "id": "8b5b3e33-4a3c-47d0-a4d5-a7b1b6e8e2cd",
   "metadata": {
    "jp-MarkdownHeadingCollapsed": true
   },
   "source": [
    "# KPIs"
   ]
  },
  {
   "cell_type": "markdown",
   "id": "9ab832a1-8df1-4d18-90af-4381d3183515",
   "metadata": {},
   "source": [
    "**Success Indicators**\n",
    "\n",
    "You have now been asked to discover what KPIs will determine the success of the new design? Use at least completion rate, time spent on each step and error rates. Add any KPIs you might find relevant.\n",
    "\n",
    "- Completion Rate: The proportion of users who reach the final ‘confirm’ step.\n",
    "- Time Spent on Each Step: The average duration users spend on each step.\n",
    "- Error Rates: If there’s a step where users go back to a previous step, it may indicate confusion or an error. You should consider moving from a later step to an earlier one as an error.\n",
    "\n",
    "**Redesign Outcome**\n",
    "Based on the chosen KPIs, how does the new design’s performance compare to the old one?\n"
   ]
  },
  {
   "cell_type": "markdown",
   "id": "8e5dac79-7d2e-4188-ac55-7270b6425722",
   "metadata": {
    "jp-MarkdownHeadingCollapsed": true
   },
   "source": [
    "#### **MERGE CONTROL & TEST**"
   ]
  },
  {
   "cell_type": "code",
   "execution_count": 47,
   "id": "2ba03abe-02ea-410d-b401-073d9183fb83",
   "metadata": {},
   "outputs": [],
   "source": [
    "# Merge the webs dataframe and the expetiments dataframe compare KPIs."
   ]
  },
  {
   "cell_type": "code",
   "execution_count": 48,
   "id": "7628a408-eef7-46d0-a133-acabb6fbc4a9",
   "metadata": {},
   "outputs": [
    {
     "data": {
      "text/plain": [
       "(744641, 5)"
      ]
     },
     "execution_count": 48,
     "metadata": {},
     "output_type": "execute_result"
    }
   ],
   "source": [
    "webs.shape"
   ]
  },
  {
   "cell_type": "code",
   "execution_count": 49,
   "id": "3f5cb8c5-4c31-4d5d-b9ae-e6dfde5c0d0e",
   "metadata": {},
   "outputs": [
    {
     "data": {
      "text/plain": [
       "(70609, 2)"
      ]
     },
     "execution_count": 49,
     "metadata": {},
     "output_type": "execute_result"
    }
   ],
   "source": [
    "experiment.shape"
   ]
  },
  {
   "cell_type": "code",
   "execution_count": 50,
   "id": "34f250b9-65d8-4547-b6e5-0b73c875a16b",
   "metadata": {},
   "outputs": [],
   "source": [
    "merged_df = pd.merge(webs, experiment, on='client_id', how=\"left\")"
   ]
  },
  {
   "cell_type": "code",
   "execution_count": 51,
   "id": "fbc4d932-eff9-4985-adc7-bb581b5b0295",
   "metadata": {},
   "outputs": [
    {
     "data": {
      "text/plain": [
       "(744641, 6)"
      ]
     },
     "execution_count": 51,
     "metadata": {},
     "output_type": "execute_result"
    }
   ],
   "source": [
    "merged_df.shape"
   ]
  },
  {
   "cell_type": "code",
   "execution_count": 52,
   "id": "692c6441-f107-4d18-a2dc-75c9d42ce641",
   "metadata": {},
   "outputs": [
    {
     "data": {
      "text/plain": [
       "array(['Test', 'Control', nan, 'Not participate'], dtype=object)"
      ]
     },
     "execution_count": 52,
     "metadata": {},
     "output_type": "execute_result"
    }
   ],
   "source": [
    "merged_df[\"variation\"].unique()"
   ]
  },
  {
   "cell_type": "code",
   "execution_count": 53,
   "id": "9698affd-3e53-4c5b-80d6-bdffcdaa4181",
   "metadata": {},
   "outputs": [
    {
     "data": {
      "text/html": [
       "<div>\n",
       "<style scoped>\n",
       "    .dataframe tbody tr th:only-of-type {\n",
       "        vertical-align: middle;\n",
       "    }\n",
       "\n",
       "    .dataframe tbody tr th {\n",
       "        vertical-align: top;\n",
       "    }\n",
       "\n",
       "    .dataframe thead th {\n",
       "        text-align: right;\n",
       "    }\n",
       "</style>\n",
       "<table border=\"1\" class=\"dataframe\">\n",
       "  <thead>\n",
       "    <tr style=\"text-align: right;\">\n",
       "      <th></th>\n",
       "      <th>client_id</th>\n",
       "      <th>visitor_id</th>\n",
       "      <th>visit_id</th>\n",
       "      <th>process_step</th>\n",
       "      <th>date_time</th>\n",
       "      <th>variation</th>\n",
       "    </tr>\n",
       "  </thead>\n",
       "  <tbody>\n",
       "    <tr>\n",
       "      <th>0</th>\n",
       "      <td>9988021</td>\n",
       "      <td>580560515_7732621733</td>\n",
       "      <td>781255054_21935453173_531117</td>\n",
       "      <td>step_3</td>\n",
       "      <td>2017-04-17 15:27:07</td>\n",
       "      <td>Test</td>\n",
       "    </tr>\n",
       "    <tr>\n",
       "      <th>1</th>\n",
       "      <td>9988021</td>\n",
       "      <td>580560515_7732621733</td>\n",
       "      <td>781255054_21935453173_531117</td>\n",
       "      <td>step_2</td>\n",
       "      <td>2017-04-17 15:26:51</td>\n",
       "      <td>Test</td>\n",
       "    </tr>\n",
       "    <tr>\n",
       "      <th>2</th>\n",
       "      <td>9988021</td>\n",
       "      <td>580560515_7732621733</td>\n",
       "      <td>781255054_21935453173_531117</td>\n",
       "      <td>step_3</td>\n",
       "      <td>2017-04-17 15:19:22</td>\n",
       "      <td>Test</td>\n",
       "    </tr>\n",
       "    <tr>\n",
       "      <th>3</th>\n",
       "      <td>9988021</td>\n",
       "      <td>580560515_7732621733</td>\n",
       "      <td>781255054_21935453173_531117</td>\n",
       "      <td>step_2</td>\n",
       "      <td>2017-04-17 15:19:13</td>\n",
       "      <td>Test</td>\n",
       "    </tr>\n",
       "    <tr>\n",
       "      <th>4</th>\n",
       "      <td>9988021</td>\n",
       "      <td>580560515_7732621733</td>\n",
       "      <td>781255054_21935453173_531117</td>\n",
       "      <td>step_3</td>\n",
       "      <td>2017-04-17 15:18:04</td>\n",
       "      <td>Test</td>\n",
       "    </tr>\n",
       "  </tbody>\n",
       "</table>\n",
       "</div>"
      ],
      "text/plain": [
       "   client_id            visitor_id                      visit_id process_step  \\\n",
       "0    9988021  580560515_7732621733  781255054_21935453173_531117       step_3   \n",
       "1    9988021  580560515_7732621733  781255054_21935453173_531117       step_2   \n",
       "2    9988021  580560515_7732621733  781255054_21935453173_531117       step_3   \n",
       "3    9988021  580560515_7732621733  781255054_21935453173_531117       step_2   \n",
       "4    9988021  580560515_7732621733  781255054_21935453173_531117       step_3   \n",
       "\n",
       "             date_time variation  \n",
       "0  2017-04-17 15:27:07      Test  \n",
       "1  2017-04-17 15:26:51      Test  \n",
       "2  2017-04-17 15:19:22      Test  \n",
       "3  2017-04-17 15:19:13      Test  \n",
       "4  2017-04-17 15:18:04      Test  "
      ]
     },
     "execution_count": 53,
     "metadata": {},
     "output_type": "execute_result"
    }
   ],
   "source": [
    "merged_df.head()"
   ]
  },
  {
   "cell_type": "code",
   "execution_count": 54,
   "id": "2290d35e-0ecb-488b-8691-bc8beaf878f4",
   "metadata": {},
   "outputs": [],
   "source": [
    "# MAkinf two dataframe each one for each variation.\n",
    "control = merged_df.loc[merged_df['variation'] == 'Control']\n",
    "test = merged_df.loc[merged_df['variation'] == 'Test']"
   ]
  },
  {
   "cell_type": "code",
   "execution_count": 55,
   "id": "fa3ee7f6-dbe1-4594-b58b-0b1ee6dee204",
   "metadata": {},
   "outputs": [
    {
     "data": {
      "text/plain": [
       "(140536, 6)"
      ]
     },
     "execution_count": 55,
     "metadata": {},
     "output_type": "execute_result"
    }
   ],
   "source": [
    "control.shape"
   ]
  },
  {
   "cell_type": "code",
   "execution_count": 56,
   "id": "c6f55f3a-d205-4e2b-8c63-7a1662a05920",
   "metadata": {},
   "outputs": [
    {
     "data": {
      "text/plain": [
       "(176699, 6)"
      ]
     },
     "execution_count": 56,
     "metadata": {},
     "output_type": "execute_result"
    }
   ],
   "source": [
    "test.shape"
   ]
  },
  {
   "cell_type": "markdown",
   "id": "84da1e5c-3722-41c9-baee-7f1887177a75",
   "metadata": {},
   "source": [
    "#### **`1. Completion Rate: The proportion of users who reach the final ‘confirm’ step.`**"
   ]
  },
  {
   "cell_type": "markdown",
   "id": "5c78bf12-3fb4-457f-ba9d-55e824da9836",
   "metadata": {},
   "source": [
    "**CONTROL**"
   ]
  },
  {
   "cell_type": "code",
   "execution_count": 57,
   "id": "e05e1568-831c-41fb-98a1-b30c30e1c0e4",
   "metadata": {},
   "outputs": [
    {
     "data": {
      "text/plain": [
       "(140536, 6)"
      ]
     },
     "execution_count": 57,
     "metadata": {},
     "output_type": "execute_result"
    }
   ],
   "source": [
    "control.shape"
   ]
  },
  {
   "cell_type": "code",
   "execution_count": 58,
   "id": "104114c4-9465-48f4-bc79-b77624ec4928",
   "metadata": {},
   "outputs": [],
   "source": [
    "control = control.drop_duplicates()"
   ]
  },
  {
   "cell_type": "code",
   "execution_count": 59,
   "id": "0279dba0-8f59-4682-913f-43db992d1447",
   "metadata": {},
   "outputs": [
    {
     "data": {
      "text/plain": [
       "(140536, 6)"
      ]
     },
     "execution_count": 59,
     "metadata": {},
     "output_type": "execute_result"
    }
   ],
   "source": [
    "control.shape"
   ]
  },
  {
   "cell_type": "code",
   "execution_count": 60,
   "id": "b9657583-2808-4ca5-a2c6-c6ad717beb21",
   "metadata": {},
   "outputs": [],
   "source": [
    "# Filter the DataFrame to get only the rows where 'process_step' is 'confirm'.\n",
    "confirm_steps_control = control[control['process_step'] == 'confirm']"
   ]
  },
  {
   "cell_type": "code",
   "execution_count": 61,
   "id": "8d12bfd4-7d49-4198-a0b1-cea87d691a66",
   "metadata": {},
   "outputs": [
    {
     "data": {
      "text/plain": [
       "(17336, 6)"
      ]
     },
     "execution_count": 61,
     "metadata": {},
     "output_type": "execute_result"
    }
   ],
   "source": [
    "confirm_steps_control.shape"
   ]
  },
  {
   "cell_type": "code",
   "execution_count": 62,
   "id": "5c503826-579e-4040-a445-88b9a350c25f",
   "metadata": {},
   "outputs": [],
   "source": [
    "control_unique = control[\"client_id\"].unique()"
   ]
  },
  {
   "cell_type": "code",
   "execution_count": 63,
   "id": "1f92e3d9-8081-4b99-a7a1-5ce1f75288dc",
   "metadata": {},
   "outputs": [
    {
     "name": "stdout",
     "output_type": "stream",
     "text": [
      "Completion Rate for Control: 73.66989631140575%\n"
     ]
    }
   ],
   "source": [
    "# Calculate the completion rate\n",
    "completion_rate_control = len(confirm_steps_control) / len(control_unique) *100\n",
    "\n",
    "print(f\"Completion Rate for Control: {completion_rate_control}%\")\n"
   ]
  },
  {
   "cell_type": "markdown",
   "id": "937ca19a-5cbc-4634-9497-63c7a4c76d62",
   "metadata": {},
   "source": [
    "**TEST**"
   ]
  },
  {
   "cell_type": "code",
   "execution_count": 64,
   "id": "16b3f6dd-4ba4-4d81-beb4-b7de69173de1",
   "metadata": {},
   "outputs": [
    {
     "data": {
      "text/plain": [
       "array(['step_3', 'step_2', 'step_1', 'start', 'confirm'], dtype=object)"
      ]
     },
     "execution_count": 64,
     "metadata": {},
     "output_type": "execute_result"
    }
   ],
   "source": [
    "test[\"process_step\"].unique()"
   ]
  },
  {
   "cell_type": "code",
   "execution_count": 65,
   "id": "5409fd1b-28d6-4ce1-8dc7-97dc34b0a064",
   "metadata": {},
   "outputs": [
    {
     "name": "stdout",
     "output_type": "stream",
     "text": [
      "Completion Rate for Test: 94.92732126965292%\n"
     ]
    }
   ],
   "source": [
    "# Filter the DataFrame to get only the rows where 'process_step' is 'confirm'.\n",
    "confirm_steps_test = test[test['process_step'] == 'confirm']\n",
    "\n",
    "# Making a unique because we need only to filter per person. \n",
    "test_unique = test[\"client_id\"].unique()\n",
    "\n",
    "# Calculate the completion rate\n",
    "completion_rate_test = ((len(confirm_steps_test) / len(test_unique)) * 100)\n",
    "\n",
    "print(f\"Completion Rate for Test: {completion_rate_test}%\")"
   ]
  },
  {
   "cell_type": "code",
   "execution_count": 261,
   "id": "1a5e407f-562f-4555-8553-15cb40b9695d",
   "metadata": {},
   "outputs": [
    {
     "data": {
      "text/plain": [
       "25600"
      ]
     },
     "execution_count": 261,
     "metadata": {},
     "output_type": "execute_result"
    }
   ],
   "source": [
    "len(confirm_steps_test)"
   ]
  },
  {
   "cell_type": "code",
   "execution_count": 274,
   "id": "802542e9-67cc-48df-8bab-352d966a2c7e",
   "metadata": {},
   "outputs": [],
   "source": [
    "#control.to_csv('control.csv', index=False)\n",
    "#test.to_csv('test.csv', index=False)"
   ]
  },
  {
   "cell_type": "markdown",
   "id": "62550ffa-28c0-4bae-9150-c2c93062007f",
   "metadata": {
    "jp-MarkdownHeadingCollapsed": true
   },
   "source": [
    "#### **`2. Time Spent on Each Step: The average duration users spend on each step.`**"
   ]
  },
  {
   "cell_type": "markdown",
   "id": "d5a0d3a1-3213-49bf-bf95-95aaf9251083",
   "metadata": {},
   "source": [
    "**CONTROL**"
   ]
  },
  {
   "cell_type": "code",
   "execution_count": 66,
   "id": "8659cb10-0889-4320-b5e8-d149d7589925",
   "metadata": {},
   "outputs": [
    {
     "name": "stdout",
     "output_type": "stream",
     "text": [
      "<class 'pandas.core.frame.DataFrame'>\n",
      "Index: 744641 entries, 0 to 755404\n",
      "Data columns (total 5 columns):\n",
      " #   Column        Non-Null Count   Dtype \n",
      "---  ------        --------------   ----- \n",
      " 0   client_id     744641 non-null  int64 \n",
      " 1   visitor_id    744641 non-null  object\n",
      " 2   visit_id      744641 non-null  object\n",
      " 3   process_step  744641 non-null  object\n",
      " 4   date_time     744641 non-null  object\n",
      "dtypes: int64(1), object(4)\n",
      "memory usage: 34.1+ MB\n"
     ]
    }
   ],
   "source": [
    "webs.info()"
   ]
  },
  {
   "cell_type": "code",
   "execution_count": 67,
   "id": "d5363559-e93e-435c-a0b3-b84cb4ff1e51",
   "metadata": {},
   "outputs": [],
   "source": [
    "# Convert the date and time column to datetime type since it is not yet in that format.\n",
    "control['date_time'] = pd.to_datetime(control['date_time'])"
   ]
  },
  {
   "cell_type": "code",
   "execution_count": 68,
   "id": "a5daa31e-8cb5-49f1-ab00-234c5167a11a",
   "metadata": {},
   "outputs": [],
   "source": [
    "# Sort the DataFrame by 'client_id' and 'date_time' to ensure that the records are in the correct order\n",
    "control = control.sort_values(by=['client_id', 'date_time'])\n",
    "\n",
    "# Calculate the time difference between each consecutive record for each user.\n",
    "control['duration'] = (control['date_time'] - control.groupby('client_id')['date_time'].shift()).dt.total_seconds()\n",
    "\n",
    "# Set the duration for the first record for each user, setting the time difference to 0\n",
    "control.loc[control['client_id'] != control['client_id'].shift(), 'duration'] = 0\n"
   ]
  },
  {
   "cell_type": "code",
   "execution_count": 294,
   "id": "db253299-7b8e-4c2c-8a31-29717deb1c64",
   "metadata": {},
   "outputs": [
    {
     "name": "stdout",
     "output_type": "stream",
     "text": [
      "Average time in each step in minutes in Control:\n",
      "process_step\n",
      "confirm    1109.61\n",
      "start      3268.10\n",
      "step_1       30.68\n",
      "step_2        0.66\n",
      "step_3        9.70\n",
      "Name: duration, dtype: float64\n"
     ]
    }
   ],
   "source": [
    "# Calculate the average time in each step.\n",
    "average_time_per_step_control = control.groupby('process_step')['duration'].mean()\n",
    "average_time_per_step_control= average_time_per_step_control/60\n",
    "\n",
    "print(\"Average time in each step in minutes in Control:\")\n",
    "print((average_time_per_step_control).round(2))# turn to minutes.\n"
   ]
  },
  {
   "cell_type": "markdown",
   "id": "38f5fd0c-7eb2-44b4-a3b1-194d8f678083",
   "metadata": {},
   "source": [
    "**TEST**"
   ]
  },
  {
   "cell_type": "code",
   "execution_count": 70,
   "id": "b18e8d13-10fe-417c-af2e-3744898af8e8",
   "metadata": {},
   "outputs": [
    {
     "name": "stderr",
     "output_type": "stream",
     "text": [
      "/var/folders/__/k53x5x752318rh35q54k32m80000gn/T/ipykernel_12215/4276778080.py:2: SettingWithCopyWarning: \n",
      "A value is trying to be set on a copy of a slice from a DataFrame.\n",
      "Try using .loc[row_indexer,col_indexer] = value instead\n",
      "\n",
      "See the caveats in the documentation: https://pandas.pydata.org/pandas-docs/stable/user_guide/indexing.html#returning-a-view-versus-a-copy\n",
      "  test['date_time'] = pd.to_datetime(test['date_time'])\n"
     ]
    }
   ],
   "source": [
    "# Convert the date and time column to datetime type since it is not yet in that format.\n",
    "test['date_time'] = pd.to_datetime(test['date_time'])"
   ]
  },
  {
   "cell_type": "code",
   "execution_count": 71,
   "id": "d125b72b-6bee-43ab-96a1-054497ff94db",
   "metadata": {},
   "outputs": [],
   "source": [
    "# Sort the DataFrame by 'client_id' and 'date_time' to ensure that the records are in the correct order\n",
    "test = test.sort_values(by=['client_id', 'date_time'])\n",
    "\n",
    "# Calculate the time difference between each consecutive record for each user.\n",
    "test['duration'] = (test['date_time'] - test.groupby('client_id')['date_time'].shift()).dt.total_seconds()\n",
    "\n",
    "# Set the duration for the first record for each user, setting the time difference to 0\n",
    "test.loc[test['client_id'] != test['client_id'].shift(), 'duration'] = 0"
   ]
  },
  {
   "cell_type": "code",
   "execution_count": 288,
   "id": "65e4de38-07a7-4bb6-bd5a-9855ea633184",
   "metadata": {},
   "outputs": [
    {
     "name": "stdout",
     "output_type": "stream",
     "text": [
      "Average time in each step in minutes in Test:\n",
      "process_step\n",
      "confirm    1733.48\n",
      "start      2406.51\n",
      "step_1       22.34\n",
      "step_2        1.86\n",
      "step_3       12.37\n",
      "Name: duration, dtype: float64\n"
     ]
    }
   ],
   "source": [
    "# Calculate the average time in each step.\n",
    "average_time_per_step_test = test.groupby('process_step')['duration'].mean()\n",
    "average_time_per_step_test = average_time_per_step_test/60\n",
    "\n",
    "print(\"Average time in each step in minutes in Test:\")\n",
    "print((average_time_per_step_test).round(2))# turn to minutes.\n"
   ]
  },
  {
   "cell_type": "markdown",
   "id": "d1aed90c-ff46-4056-8bc2-52db178a691d",
   "metadata": {},
   "source": [
    "Pasarlos a Dataframe"
   ]
  },
  {
   "cell_type": "code",
   "execution_count": 295,
   "id": "7ae3cead-8174-4c30-998c-f225bed2a23d",
   "metadata": {},
   "outputs": [],
   "source": [
    "avg_time_control = pd.DataFrame(list(average_time_per_step_control.items()), columns=[\"Step\", \"Average Time\"])\n",
    "# Asignar la columna ‘Test’ con el valor ‘test’ a todos\n",
    "avg_time_control[\"Group\"] = \"Control\""
   ]
  },
  {
   "cell_type": "code",
   "execution_count": 291,
   "id": "160e066b-211a-4643-859e-cadd7292d49a",
   "metadata": {},
   "outputs": [],
   "source": [
    "avg_time_test = pd.DataFrame(list(average_time_per_step_test.items()), columns=[\"Step\", \"Average Time\"])\n",
    "# Asignar la columna ‘Test’ con el valor ‘test’ a todos\n",
    "avg_time_test[\"Group\"] = \"Test\""
   ]
  },
  {
   "cell_type": "code",
   "execution_count": 296,
   "id": "aa9206d1-5ed7-442d-9571-7dd0d0fe70c0",
   "metadata": {},
   "outputs": [
    {
     "data": {
      "text/html": [
       "<div>\n",
       "<style scoped>\n",
       "    .dataframe tbody tr th:only-of-type {\n",
       "        vertical-align: middle;\n",
       "    }\n",
       "\n",
       "    .dataframe tbody tr th {\n",
       "        vertical-align: top;\n",
       "    }\n",
       "\n",
       "    .dataframe thead th {\n",
       "        text-align: right;\n",
       "    }\n",
       "</style>\n",
       "<table border=\"1\" class=\"dataframe\">\n",
       "  <thead>\n",
       "    <tr style=\"text-align: right;\">\n",
       "      <th></th>\n",
       "      <th>Step</th>\n",
       "      <th>Average Time</th>\n",
       "      <th>Group</th>\n",
       "    </tr>\n",
       "  </thead>\n",
       "  <tbody>\n",
       "    <tr>\n",
       "      <th>0</th>\n",
       "      <td>confirm</td>\n",
       "      <td>1109.610375</td>\n",
       "      <td>Control</td>\n",
       "    </tr>\n",
       "    <tr>\n",
       "      <th>1</th>\n",
       "      <td>start</td>\n",
       "      <td>3268.098535</td>\n",
       "      <td>Control</td>\n",
       "    </tr>\n",
       "    <tr>\n",
       "      <th>2</th>\n",
       "      <td>step_1</td>\n",
       "      <td>30.679555</td>\n",
       "      <td>Control</td>\n",
       "    </tr>\n",
       "    <tr>\n",
       "      <th>3</th>\n",
       "      <td>step_2</td>\n",
       "      <td>0.658376</td>\n",
       "      <td>Control</td>\n",
       "    </tr>\n",
       "    <tr>\n",
       "      <th>4</th>\n",
       "      <td>step_3</td>\n",
       "      <td>9.699481</td>\n",
       "      <td>Control</td>\n",
       "    </tr>\n",
       "  </tbody>\n",
       "</table>\n",
       "</div>"
      ],
      "text/plain": [
       "      Step  Average Time    Group\n",
       "0  confirm   1109.610375  Control\n",
       "1    start   3268.098535  Control\n",
       "2   step_1     30.679555  Control\n",
       "3   step_2      0.658376  Control\n",
       "4   step_3      9.699481  Control"
      ]
     },
     "execution_count": 296,
     "metadata": {},
     "output_type": "execute_result"
    }
   ],
   "source": [
    "avg_time_control"
   ]
  },
  {
   "cell_type": "code",
   "execution_count": 298,
   "id": "080ba259-77a1-407c-a569-bde583bc31aa",
   "metadata": {},
   "outputs": [],
   "source": [
    "avg_time_control.to_csv('avg_time_per_step_control.csv', index=False)\n",
    "avg_time_test.to_csv('avg_time_per_step_test.csv', index=False)"
   ]
  },
  {
   "cell_type": "markdown",
   "id": "9fde36c8-8378-4a7a-ad15-039e8f7059ff",
   "metadata": {
    "jp-MarkdownHeadingCollapsed": true
   },
   "source": [
    "#### **`3.Error Rates: If there’s a step where users go back to a previous step, it may indicate confusion or an error. You should consider moving from a later step to an earlier one as an error.`**"
   ]
  },
  {
   "cell_type": "markdown",
   "id": "56144ff6-9e1f-4035-b811-d8a327ec0850",
   "metadata": {},
   "source": [
    "**CONTROL**"
   ]
  },
  {
   "cell_type": "code",
   "execution_count": 73,
   "id": "943e64dc-bf07-4b34-a867-469dc79144ed",
   "metadata": {},
   "outputs": [
    {
     "data": {
      "text/html": [
       "<div>\n",
       "<style scoped>\n",
       "    .dataframe tbody tr th:only-of-type {\n",
       "        vertical-align: middle;\n",
       "    }\n",
       "\n",
       "    .dataframe tbody tr th {\n",
       "        vertical-align: top;\n",
       "    }\n",
       "\n",
       "    .dataframe thead th {\n",
       "        text-align: right;\n",
       "    }\n",
       "</style>\n",
       "<table border=\"1\" class=\"dataframe\">\n",
       "  <thead>\n",
       "    <tr style=\"text-align: right;\">\n",
       "      <th></th>\n",
       "      <th>client_id</th>\n",
       "      <th>visitor_id</th>\n",
       "      <th>visit_id</th>\n",
       "      <th>process_step</th>\n",
       "      <th>date_time</th>\n",
       "      <th>variation</th>\n",
       "      <th>duration</th>\n",
       "    </tr>\n",
       "  </thead>\n",
       "  <tbody>\n",
       "    <tr>\n",
       "      <th>131606</th>\n",
       "      <td>1028</td>\n",
       "      <td>42237450_62128060588</td>\n",
       "      <td>557292053_87239438319_391157</td>\n",
       "      <td>start</td>\n",
       "      <td>2017-04-08 18:51:28</td>\n",
       "      <td>Control</td>\n",
       "      <td>0.0</td>\n",
       "    </tr>\n",
       "    <tr>\n",
       "      <th>131605</th>\n",
       "      <td>1028</td>\n",
       "      <td>42237450_62128060588</td>\n",
       "      <td>557292053_87239438319_391157</td>\n",
       "      <td>step_1</td>\n",
       "      <td>2017-04-08 18:52:17</td>\n",
       "      <td>Control</td>\n",
       "      <td>49.0</td>\n",
       "    </tr>\n",
       "    <tr>\n",
       "      <th>131604</th>\n",
       "      <td>1028</td>\n",
       "      <td>42237450_62128060588</td>\n",
       "      <td>557292053_87239438319_391157</td>\n",
       "      <td>step_1</td>\n",
       "      <td>2017-04-08 18:53:20</td>\n",
       "      <td>Control</td>\n",
       "      <td>63.0</td>\n",
       "    </tr>\n",
       "    <tr>\n",
       "      <th>131603</th>\n",
       "      <td>1028</td>\n",
       "      <td>42237450_62128060588</td>\n",
       "      <td>557292053_87239438319_391157</td>\n",
       "      <td>step_2</td>\n",
       "      <td>2017-04-08 18:53:29</td>\n",
       "      <td>Control</td>\n",
       "      <td>9.0</td>\n",
       "    </tr>\n",
       "    <tr>\n",
       "      <th>131602</th>\n",
       "      <td>1028</td>\n",
       "      <td>42237450_62128060588</td>\n",
       "      <td>557292053_87239438319_391157</td>\n",
       "      <td>step_3</td>\n",
       "      <td>2017-04-08 18:58:04</td>\n",
       "      <td>Control</td>\n",
       "      <td>275.0</td>\n",
       "    </tr>\n",
       "  </tbody>\n",
       "</table>\n",
       "</div>"
      ],
      "text/plain": [
       "        client_id            visitor_id                      visit_id  \\\n",
       "131606       1028  42237450_62128060588  557292053_87239438319_391157   \n",
       "131605       1028  42237450_62128060588  557292053_87239438319_391157   \n",
       "131604       1028  42237450_62128060588  557292053_87239438319_391157   \n",
       "131603       1028  42237450_62128060588  557292053_87239438319_391157   \n",
       "131602       1028  42237450_62128060588  557292053_87239438319_391157   \n",
       "\n",
       "       process_step           date_time variation  duration  \n",
       "131606        start 2017-04-08 18:51:28   Control       0.0  \n",
       "131605       step_1 2017-04-08 18:52:17   Control      49.0  \n",
       "131604       step_1 2017-04-08 18:53:20   Control      63.0  \n",
       "131603       step_2 2017-04-08 18:53:29   Control       9.0  \n",
       "131602       step_3 2017-04-08 18:58:04   Control     275.0  "
      ]
     },
     "execution_count": 73,
     "metadata": {},
     "output_type": "execute_result"
    }
   ],
   "source": [
    "control.head()"
   ]
  },
  {
   "cell_type": "code",
   "execution_count": 74,
   "id": "c2b4ff12-4c86-4da0-9567-63cda485fecc",
   "metadata": {},
   "outputs": [],
   "source": [
    "# Create a dictionary for mapping steps to numbers\n",
    "step_mapping = {'start': 0, 'step_1': 1, 'step_2': 2, 'step_3': 3, 'confirm': 4}\n",
    "\n",
    "# Apply the mapping to create the new column. Used to apply a function or a mapping to each element of a series or to all elements of a DataFrame, depending on the context in which it is used.\n",
    "control['step_values'] = control['process_step'].map(step_mapping)"
   ]
  },
  {
   "cell_type": "code",
   "execution_count": 75,
   "id": "afd2fb28-66a8-480b-935d-69581e7447a1",
   "metadata": {},
   "outputs": [],
   "source": [
    "# Filter, group and use diff() \n",
    "# Used to calculate the difference between consecutive elements in a series. \n",
    "# When applied to a data series, as in this case, it calculates the difference between the current element and the previous element. \n",
    "\n",
    "control[\"step_counts\"] = control.sort_values(['client_id', 'visitor_id', 'visit_id'], ascending=True).groupby(['client_id', 'visitor_id', 'visit_id'])['step_values'].diff()"
   ]
  },
  {
   "cell_type": "code",
   "execution_count": 76,
   "id": "a4d50d09-9e77-4b06-942a-5930c98aecdb",
   "metadata": {},
   "outputs": [],
   "source": [
    "# Count errors by step_counts column\n",
    "error_counts = control[\"step_counts\"][control[\"step_counts\"] < 0].count().sum()"
   ]
  },
  {
   "cell_type": "code",
   "execution_count": 77,
   "id": "6c01fdc5-cf37-4615-b0b1-fd396f117065",
   "metadata": {},
   "outputs": [
    {
     "data": {
      "text/plain": [
       "9581"
      ]
     },
     "execution_count": 77,
     "metadata": {},
     "output_type": "execute_result"
    }
   ],
   "source": [
    "error_counts"
   ]
  },
  {
   "cell_type": "code",
   "execution_count": 78,
   "id": "2d1948fe-b131-477f-b754-736acd79a79e",
   "metadata": {},
   "outputs": [
    {
     "data": {
      "text/plain": [
       "140535"
      ]
     },
     "execution_count": 78,
     "metadata": {},
     "output_type": "execute_result"
    }
   ],
   "source": [
    "# Count the steps and subtract the first step.\n",
    "total_steps_control = control['step_values'].count() - 1\n",
    "total_steps_control"
   ]
  },
  {
   "cell_type": "code",
   "execution_count": 79,
   "id": "249e2b3d-ebe1-4ad1-bc13-7ec69df3f49c",
   "metadata": {},
   "outputs": [
    {
     "name": "stdout",
     "output_type": "stream",
     "text": [
      "Control Error Rate: 6.82 %\n"
     ]
    }
   ],
   "source": [
    "# Percentage error rate\n",
    "error_rate_control = ((error_counts / total_steps_control)*100).round(2)\n",
    "print(\"Control Error Rate:\", error_rate_control, \"%\")"
   ]
  },
  {
   "cell_type": "markdown",
   "id": "3b77a0fb-534c-4a2d-bcdb-a69d4df129c0",
   "metadata": {},
   "source": [
    "**TEST**"
   ]
  },
  {
   "cell_type": "code",
   "execution_count": 80,
   "id": "13a9c9ac-5127-4795-a516-a7f7aa4ea040",
   "metadata": {},
   "outputs": [],
   "source": [
    "# Create a dictionary for mapping steps to numbers\n",
    "step_mapping_test = {'start': 0, 'step_1': 1, 'step_2': 2, 'step_3': 3, 'confirm': 4}\n",
    "\n",
    "# Apply the mapping to create the new column. Used to apply a function or a mapping to each element of a series or to all elements of a DataFrame, depending on the context in which it is used.\n",
    "test['step_values'] = test['process_step'].map(step_mapping_test)\n",
    "\n",
    "# Filter, group and use diff() \n",
    "# Used to calculate the difference between consecutive elements in a series. \n",
    "# When applied to a data series, as in this case, it calculates the difference between the current element and the previous element. \n",
    "\n",
    "test[\"step_counts\"] = test.sort_values(['client_id', 'visitor_id', 'visit_id'], ascending=True).groupby(['client_id', 'visitor_id', 'visit_id'])['step_values'].diff()"
   ]
  },
  {
   "cell_type": "code",
   "execution_count": 81,
   "id": "6a769290-6344-46b7-82bb-290a6fe98ddf",
   "metadata": {},
   "outputs": [
    {
     "name": "stdout",
     "output_type": "stream",
     "text": [
      "Test Error Rate: 9.19 %\n"
     ]
    }
   ],
   "source": [
    "# Count errors by step_counts column\n",
    "error_counts_test = test[\"step_counts\"][test[\"step_counts\"] < 0].count().sum()\n",
    "\n",
    "# Count the steps and subtract the first step.\n",
    "total_steps_test = test['step_values'].count() - 1\n",
    "\n",
    "# Percentage error rate\n",
    "error_rate_test = ((error_counts_test / total_steps_test)*100).round(2)\n",
    "print(\"Test Error Rate:\", error_rate_test, \"%\")\n"
   ]
  },
  {
   "cell_type": "code",
   "execution_count": 262,
   "id": "59331aa0-df8e-4b2c-8ade-b8ebc893f73e",
   "metadata": {},
   "outputs": [
    {
     "data": {
      "text/html": [
       "<div>\n",
       "<style scoped>\n",
       "    .dataframe tbody tr th:only-of-type {\n",
       "        vertical-align: middle;\n",
       "    }\n",
       "\n",
       "    .dataframe tbody tr th {\n",
       "        vertical-align: top;\n",
       "    }\n",
       "\n",
       "    .dataframe thead th {\n",
       "        text-align: right;\n",
       "    }\n",
       "</style>\n",
       "<table border=\"1\" class=\"dataframe\">\n",
       "  <thead>\n",
       "    <tr style=\"text-align: right;\">\n",
       "      <th></th>\n",
       "      <th>client_id</th>\n",
       "      <th>visitor_id</th>\n",
       "      <th>visit_id</th>\n",
       "      <th>process_step</th>\n",
       "      <th>date_time</th>\n",
       "      <th>variation</th>\n",
       "      <th>duration</th>\n",
       "      <th>step_values</th>\n",
       "      <th>step_counts</th>\n",
       "    </tr>\n",
       "  </thead>\n",
       "  <tbody>\n",
       "    <tr>\n",
       "      <th>131606</th>\n",
       "      <td>1028</td>\n",
       "      <td>42237450_62128060588</td>\n",
       "      <td>557292053_87239438319_391157</td>\n",
       "      <td>start</td>\n",
       "      <td>2017-04-08 18:51:28</td>\n",
       "      <td>Control</td>\n",
       "      <td>0.0</td>\n",
       "      <td>0</td>\n",
       "      <td>NaN</td>\n",
       "    </tr>\n",
       "    <tr>\n",
       "      <th>131605</th>\n",
       "      <td>1028</td>\n",
       "      <td>42237450_62128060588</td>\n",
       "      <td>557292053_87239438319_391157</td>\n",
       "      <td>step_1</td>\n",
       "      <td>2017-04-08 18:52:17</td>\n",
       "      <td>Control</td>\n",
       "      <td>49.0</td>\n",
       "      <td>1</td>\n",
       "      <td>1.0</td>\n",
       "    </tr>\n",
       "    <tr>\n",
       "      <th>131604</th>\n",
       "      <td>1028</td>\n",
       "      <td>42237450_62128060588</td>\n",
       "      <td>557292053_87239438319_391157</td>\n",
       "      <td>step_1</td>\n",
       "      <td>2017-04-08 18:53:20</td>\n",
       "      <td>Control</td>\n",
       "      <td>63.0</td>\n",
       "      <td>1</td>\n",
       "      <td>0.0</td>\n",
       "    </tr>\n",
       "    <tr>\n",
       "      <th>131603</th>\n",
       "      <td>1028</td>\n",
       "      <td>42237450_62128060588</td>\n",
       "      <td>557292053_87239438319_391157</td>\n",
       "      <td>step_2</td>\n",
       "      <td>2017-04-08 18:53:29</td>\n",
       "      <td>Control</td>\n",
       "      <td>9.0</td>\n",
       "      <td>2</td>\n",
       "      <td>1.0</td>\n",
       "    </tr>\n",
       "    <tr>\n",
       "      <th>131602</th>\n",
       "      <td>1028</td>\n",
       "      <td>42237450_62128060588</td>\n",
       "      <td>557292053_87239438319_391157</td>\n",
       "      <td>step_3</td>\n",
       "      <td>2017-04-08 18:58:04</td>\n",
       "      <td>Control</td>\n",
       "      <td>275.0</td>\n",
       "      <td>3</td>\n",
       "      <td>1.0</td>\n",
       "    </tr>\n",
       "  </tbody>\n",
       "</table>\n",
       "</div>"
      ],
      "text/plain": [
       "        client_id            visitor_id                      visit_id  \\\n",
       "131606       1028  42237450_62128060588  557292053_87239438319_391157   \n",
       "131605       1028  42237450_62128060588  557292053_87239438319_391157   \n",
       "131604       1028  42237450_62128060588  557292053_87239438319_391157   \n",
       "131603       1028  42237450_62128060588  557292053_87239438319_391157   \n",
       "131602       1028  42237450_62128060588  557292053_87239438319_391157   \n",
       "\n",
       "       process_step           date_time variation  duration  step_values  \\\n",
       "131606        start 2017-04-08 18:51:28   Control       0.0            0   \n",
       "131605       step_1 2017-04-08 18:52:17   Control      49.0            1   \n",
       "131604       step_1 2017-04-08 18:53:20   Control      63.0            1   \n",
       "131603       step_2 2017-04-08 18:53:29   Control       9.0            2   \n",
       "131602       step_3 2017-04-08 18:58:04   Control     275.0            3   \n",
       "\n",
       "        step_counts  \n",
       "131606          NaN  \n",
       "131605          1.0  \n",
       "131604          0.0  \n",
       "131603          1.0  \n",
       "131602          1.0  "
      ]
     },
     "execution_count": 262,
     "metadata": {},
     "output_type": "execute_result"
    }
   ],
   "source": [
    "control.head()"
   ]
  },
  {
   "cell_type": "markdown",
   "id": "395e82f4-7aa6-4f5d-a5dd-6a6baffd3078",
   "metadata": {
    "jp-MarkdownHeadingCollapsed": true
   },
   "source": [
    "#### Redesign Outcome Based on the chosen KPIs, how does the new design’s performance compare to the old on"
   ]
  },
  {
   "cell_type": "markdown",
   "id": "6d0b8212-e431-411a-ad3d-9aaeac45fef6",
   "metadata": {},
   "source": [
    "Based on the chosen KPIs, let's analyze how the performance of the new design compares to the old one:\n",
    "\n",
    "1. **Completion Rate:** The new design has a completion rate of **94.93%**, while the old design has a completion rate of **73.67%**. This indicates that the new design has significantly improved users' ability to complete the process, suggesting a better user experience and greater design effectiveness.\n",
    "\n",
    "2. **Time Spent on Each Step:** The average time users spend on each step varies between the two designs. Overall, it appears that the new design has reduced the average time spent on each step compared to the old design. For example, the average time spent on the 'confirm' step is lower in the new design, which could indicate simplification or improved clarity in that step.\n",
    "\n",
    "3. **Error Rates:** Although the new design has a slightly higher error rate (9.19%) compared to the old design with an error rate of 6.82%, it is not necessarily a clear indication that the new design is worse. *It could suggest that the new design is causing more confusion or errors at certain points in the process*. However, this should be assessed in conjunction with other indicators and qualitative analysis to better understand the nature of these errors and whether they are related to specific design issues or otherwise.\n",
    "   \n",
    "In summary, the new design appears to have a *much better completion rate and shorter step times overall*, suggesting an improvement in user experience. However, slightly higher error rates may require further investigation to fully understand their impact on the user experience and determine if there are specific areas that need additional attention in the design."
   ]
  },
  {
   "cell_type": "markdown",
   "id": "2b186232-07db-43ac-87b6-844121542ef0",
   "metadata": {
    "jp-MarkdownHeadingCollapsed": true
   },
   "source": [
    "# **HYPOTHESIS**"
   ]
  },
  {
   "cell_type": "markdown",
   "id": "e1470b4a-e073-488c-96b7-d3993fa35349",
   "metadata": {
    "jp-MarkdownHeadingCollapsed": true
   },
   "source": [
    "##### **`Confirmed if the difference in completion rate of the the new design and the old design is statistically significant`**"
   ]
  },
  {
   "cell_type": "markdown",
   "id": "be688ce1-4f7e-41ea-b14d-1c559b9aa1fd",
   "metadata": {},
   "source": [
    "**Set hypothesis**\n",
    "\n",
    "`H0:` mu there is no significant difference between the completion rates of the new design and the old design.\n",
    "\n",
    "`H1:` mu there is a significant difference between the completion rates of the new design and the old design.\n",
    "\n",
    "`Significance level:`0.05"
   ]
  },
  {
   "cell_type": "code",
   "execution_count": 82,
   "id": "1d414bd9-b719-4c21-af92-e1a3fb437547",
   "metadata": {},
   "outputs": [],
   "source": [
    "alpha = 0.05"
   ]
  },
  {
   "cell_type": "code",
   "execution_count": 179,
   "id": "7f704406-ed1b-41b7-87c1-357e3e89e374",
   "metadata": {},
   "outputs": [
    {
     "name": "stdout",
     "output_type": "stream",
     "text": [
      "<class 'pandas.core.frame.DataFrame'>\n",
      "RangeIndex: 744641 entries, 0 to 744640\n",
      "Data columns (total 6 columns):\n",
      " #   Column        Non-Null Count   Dtype \n",
      "---  ------        --------------   ----- \n",
      " 0   client_id     744641 non-null  int64 \n",
      " 1   visitor_id    744641 non-null  object\n",
      " 2   visit_id      744641 non-null  object\n",
      " 3   process_step  744641 non-null  object\n",
      " 4   date_time     744641 non-null  object\n",
      " 5   variation     443897 non-null  object\n",
      "dtypes: int64(1), object(5)\n",
      "memory usage: 34.1+ MB\n"
     ]
    }
   ],
   "source": [
    "merged_df.info()"
   ]
  },
  {
   "cell_type": "code",
   "execution_count": 181,
   "id": "4b56dc96-7634-4f4e-87cf-61d52ea0fe94",
   "metadata": {},
   "outputs": [],
   "source": [
    "# Change column type to datetime.\n",
    "merged_df['date_time'] = pd.to_datetime(merged_df['date_time'])"
   ]
  },
  {
   "cell_type": "code",
   "execution_count": 195,
   "id": "540b4848-2f63-44fe-9ad0-6511a16c2d51",
   "metadata": {},
   "outputs": [],
   "source": [
    "# Delete rows with NaN in column 'variation'.\n",
    "merged_df.dropna(inplace=True)\n",
    "\n",
    "# Delete rows with category 'Not participate' in column 'variation'.\n",
    "merged_df = merged_df[merged_df['variation'] != 'Not participate']"
   ]
  },
  {
   "cell_type": "code",
   "execution_count": 203,
   "id": "32cabbbf-7ae3-4770-b0a4-f8d1e21c98eb",
   "metadata": {},
   "outputs": [],
   "source": [
    "# Filter the data for the categories 'start' and 'confirm'.\n",
    "filtered_df = merged_df[merged_df['process_step'].isin(['start', 'confirm'])]\n",
    "\n",
    "# Sort the DataFrame filtered by 'client_id', 'visit_id' and 'date_time'.\n",
    "filtered_df_sorted = filtered_df.sort_values(by=['client_id', 'visit_id', 'date_time'])"
   ]
  },
  {
   "cell_type": "code",
   "execution_count": 204,
   "id": "e681c77f-ff19-427c-826b-c48c017ddc42",
   "metadata": {},
   "outputs": [],
   "source": [
    "# Calculate the time difference in seconds between adjacent steps.\n",
    "time_diff_seconds = filtered_df_sorted.groupby(['client_id', 'visit_id'])['date_time'].diff().dt.total_seconds()\n",
    "\n",
    "# Filter the DataFrame for rows where the current step is 'confirm'.\n",
    "confirm_time_diff_seconds = time_diff_seconds[filtered_df_sorted['process_step'] == 'confirm'].tolist()"
   ]
  },
  {
   "cell_type": "code",
   "execution_count": 217,
   "id": "e34d42d2-36ca-400a-924a-c9d3cca75173",
   "metadata": {},
   "outputs": [],
   "source": [
    "#  Filter by variation category where the process step is confirm. \n",
    "confirm_time_test = time_diff_seconds[(filtered_df_sorted['process_step'] == 'confirm') & (filtered_df_sorted['variation'].isin(['Test']))].tolist()\n",
    "\n",
    "confirm_time_control = time_diff_seconds[(filtered_df_sorted['process_step'] == 'confirm') & (filtered_df_sorted['variation'].isin(['Control']))].tolist()"
   ]
  },
  {
   "cell_type": "code",
   "execution_count": 220,
   "id": "915f5071-1ec7-4553-842f-30dbfaa6d645",
   "metadata": {},
   "outputs": [],
   "source": [
    "# Delete the Nans.\n",
    "confirm_time_control = [x for x in confirm_time_control if not pd.isna(x)]\n",
    "confirm_time_test = [x for x in confirm_time_test if not pd.isna(x)]"
   ]
  },
  {
   "cell_type": "code",
   "execution_count": 222,
   "id": "8074bcde-1998-4967-af27-0bb3bca3762c",
   "metadata": {},
   "outputs": [
    {
     "name": "stdout",
     "output_type": "stream",
     "text": [
      "The p value is: 4.411876643501144e-24\n",
      "The results is that: We reject the null hypothesis\n"
     ]
    }
   ],
   "source": [
    "# Try hypothesis. \n",
    "_,p_value = st.ttest_ind(confirm_time_control,confirm_time_test)\n",
    "\n",
    "print(f\"The p value is: {p_value}\")\n",
    "\n",
    "if p_value > alpha:\n",
    "    print(\"The results is that: We are not able to reject the null hypothesis\")\n",
    "else:\n",
    "    print(\"The results is that: We reject the null hypothesis\")"
   ]
  },
  {
   "cell_type": "markdown",
   "id": "d80234e8-e2ca-41ed-b3ee-e19a77c6a01e",
   "metadata": {},
   "source": [
    "**Results**\n",
    "\n",
    "The hypothesis test suggests that there is a statistically significant difference in the completion rate between the new design and the old design. Furthermore, the p-value obtained is 4.411876643501144e-24, which is less than the significance level of 0.05, indicating that we reject the null hypothesis. This means that there is sufficient evidence to conclude that there is a significant difference in completion rates between the two designs."
   ]
  },
  {
   "cell_type": "markdown",
   "id": "01fb3b59-8578-4308-8071-96576fcc526c",
   "metadata": {
    "jp-MarkdownHeadingCollapsed": true
   },
   "source": [
    "##### **`Analysis ensuring that the observed increase in completion rate from the A/B test meets or exceeds this 5% threshold`**"
   ]
  },
  {
   "cell_type": "code",
   "execution_count": 224,
   "id": "e6d7de9b-745a-40ff-8836-482d074e41d7",
   "metadata": {},
   "outputs": [
    {
     "name": "stdout",
     "output_type": "stream",
     "text": [
      "The p value is: 4.411876643501144e-24\n",
      "The results is that: We reject the null hypothesis\n"
     ]
    }
   ],
   "source": [
    "# Multiply Test for 1.05 to see if change something. \n",
    "confirm_time_test_ = [x * 1.05 for x in confirm_time_test]\n",
    "\n",
    "confirm_time_test_ = [x for x in confirm_time_control if not pd.isna(x)]\n",
    "confirm_time_control = [x for x in confirm_time_test if not pd.isna(x)]\n",
    "\n",
    "_,p_value = st.ttest_ind(confirm_time_test_,confirm_time_control)\n",
    "\n",
    "print(f\"The p value is: {p_value}\")\n",
    "\n",
    "if p_value > alpha:\n",
    "    print(\"The results is that: We are not able to reject the null hypothesis\")\n",
    "else:\n",
    "    print(\"The results is that: We reject the null hypothesis\")"
   ]
  },
  {
   "cell_type": "code",
   "execution_count": 228,
   "id": "837c3002-79b5-4b4e-a7d3-8a1079a265dc",
   "metadata": {},
   "outputs": [
    {
     "data": {
      "text/plain": [
       "(278.3236903831118, 310.64007914425275)"
      ]
     },
     "execution_count": 228,
     "metadata": {},
     "output_type": "execute_result"
    }
   ],
   "source": [
    "# See if the avg is different. \n",
    "mean_confirm_time_control = np.mean(confirm_time_control)\n",
    "man_confirm_time_test_ = np.mean(confirm_time_test_)\n",
    "mean_confirm_time_control, man_confirm_time_test_"
   ]
  },
  {
   "cell_type": "markdown",
   "id": "8bea7847-2521-4e63-b259-7704f6c5a563",
   "metadata": {},
   "source": [
    "**Results**\n",
    "\n",
    "Since the p-value obtained after determining whether this increase in completion rate meets the 5% threshold established by Vanguard as the minimum necessary to justify the costs associated with implementing the new design is extremely small (4.41e-24), which is much lower than the 0.05 significance level, we have rejected the null hypothesis. This indicates that there is a statistically significant difference in the increase in completion rate between the new design and the old design.\n",
    "\n",
    "Therefore, we can conclude that there is sufficient evidence to support the alternative hypothesis (H1) that the increase in completion rate is significant and that there is a significant difference in the increase in completion rate between the new design and the old design.\n",
    "\n",
    " Since the observed increase is less than 5%, we could conclude that the new design is cost-effective. \n"
   ]
  },
  {
   "cell_type": "markdown",
   "id": "cff99691-763d-450c-a617-7b49a749a4ea",
   "metadata": {},
   "source": [
    "##### **`Another hypothesis test`**"
   ]
  },
  {
   "cell_type": "markdown",
   "id": "5abba04e-e91d-48d6-967d-0b14025a5f93",
   "metadata": {},
   "source": [
    "**Set Hypothesis**\n",
    "\n",
    "`H0:` The average age of clients engaging with the new process is the same as those engaging with the old process.\n",
    "\n",
    "`H1:` The average age of clients engaging with the new process is different as those engaging with the old process.\n",
    "\n",
    "`Significance level:` 0.05"
   ]
  },
  {
   "cell_type": "code",
   "execution_count": 90,
   "id": "664bc394-b5fc-49a8-96fc-c61417efaed2",
   "metadata": {},
   "outputs": [],
   "source": [
    "# Merged dataframes to have all the information we need. \n",
    "\n",
    "merged_clnt_exp = pd.merge(clients, experiment, on='client_id', how=\"left\")"
   ]
  },
  {
   "cell_type": "code",
   "execution_count": 91,
   "id": "de60c984-0a61-465f-9ba6-57084f8a0f7a",
   "metadata": {},
   "outputs": [],
   "source": [
    "# Filter by columns and specific values and eliminate empty spaces. \n",
    "\n",
    "age_control = merged_clnt_exp[merged_clnt_exp['variation'] == 'Control']['clnt_age'].dropna()"
   ]
  },
  {
   "cell_type": "code",
   "execution_count": 92,
   "id": "8eab4b17-5182-4c7d-98d7-ccf6ac4f3fb3",
   "metadata": {},
   "outputs": [],
   "source": [
    "# Filter by columns and specific values and eliminate empty spaces. \n",
    "\n",
    "age_test = merged_clnt_exp[merged_clnt_exp['variation'] == 'Test']['clnt_age'].dropna()"
   ]
  },
  {
   "cell_type": "code",
   "execution_count": 93,
   "id": "29d0c520-e0f2-46c6-96bb-ac9018ea7653",
   "metadata": {},
   "outputs": [],
   "source": [
    "# Two sample t-test formula. \n",
    "_,p_value = st.ttest_ind(age_control,age_test, equal_var=False)"
   ]
  },
  {
   "cell_type": "code",
   "execution_count": 94,
   "id": "cda5afb9-913e-44a3-a69a-018bec75b501",
   "metadata": {},
   "outputs": [
    {
     "name": "stdout",
     "output_type": "stream",
     "text": [
      "The p value is: 0.015692719461388675\n",
      "The results is that: We reject the null hypothesis\n"
     ]
    }
   ],
   "source": [
    "print(f\"The p value is: {p_value}\")\n",
    "\n",
    "if p_value > alpha:\n",
    "    print(\"The results is that: We are not able to reject the null hypothesis\")\n",
    "else:\n",
    "    print(\"The results is that: We reject the null hypothesis\")"
   ]
  },
  {
   "cell_type": "markdown",
   "id": "a5ffa1b3-a1d6-4666-ade9-a43fe5f3c796",
   "metadata": {},
   "source": [
    "**Results** \n",
    "\n",
    "With a p-value of 0.0157, which is less than the significance level of 0.05, we reject the null hypothesis. This indicates that there is sufficient statistical evidence to claim that the average age of customers participating in the new process is different from those participating in the old process.\n",
    "\n",
    "Therefore, we can conclude that the average age of customers participating in the new process is statistically different from those participating in the old process."
   ]
  },
  {
   "cell_type": "markdown",
   "id": "38d5240a-433e-45d3-afa4-9da06d6f1cc1",
   "metadata": {},
   "source": [
    "##### **`Experiment Evaluation:`**"
   ]
  },
  {
   "cell_type": "markdown",
   "id": "516a5429-2edf-4d9f-9ea7-0d1de1f21def",
   "metadata": {},
   "source": [
    "<span style=\"color:blue\">**Design Effectiveness**</span>\n",
    "1. Was the experiment well-structured?\n",
    "2. Were clients randomly and equally divided between the old and new designs?\n",
    "3. Were there any biases?"
   ]
  },
  {
   "cell_type": "markdown",
   "id": "b48343bc-e4c9-4eb1-9298-68c0d0a10efd",
   "metadata": {},
   "source": [
    "**Percentage per GENDER**"
   ]
  },
  {
   "cell_type": "code",
   "execution_count": 249,
   "id": "465ac3ed-41aa-4842-8e6a-c444b2e351d4",
   "metadata": {},
   "outputs": [
    {
     "data": {
      "text/plain": [
       "array(['Test', 'Control', 'Not participate'], dtype=object)"
      ]
     },
     "execution_count": 249,
     "metadata": {},
     "output_type": "execute_result"
    }
   ],
   "source": [
    "merged_clnt_exp[\"variation\"].unique()"
   ]
  },
  {
   "cell_type": "code",
   "execution_count": 248,
   "id": "778beaaa-fb3a-438b-9bd6-dd3b16a3a1be",
   "metadata": {},
   "outputs": [
    {
     "data": {
      "text/plain": [
       "array(['U', 'F', 'M', nan], dtype=object)"
      ]
     },
     "execution_count": 248,
     "metadata": {},
     "output_type": "execute_result"
    }
   ],
   "source": [
    "filter_control[\"gender\"].unique()"
   ]
  },
  {
   "cell_type": "code",
   "execution_count": 250,
   "id": "19be2405-9cd1-45b5-aab0-d65e9ed36c68",
   "metadata": {},
   "outputs": [
    {
     "data": {
      "text/plain": [
       "gender\n",
       "U    8014\n",
       "M    7970\n",
       "F    7543\n",
       "Name: count, dtype: int64"
      ]
     },
     "execution_count": 250,
     "metadata": {},
     "output_type": "execute_result"
    }
   ],
   "source": [
    "gender_counts_control"
   ]
  },
  {
   "cell_type": "code",
   "execution_count": 98,
   "id": "7bcbd003-a8fb-42f0-ae02-4cc46c390a20",
   "metadata": {},
   "outputs": [
    {
     "name": "stdout",
     "output_type": "stream",
     "text": [
      "The total of clients per gender in Control is:\n",
      "gender\n",
      "U    34.06\n",
      "M    33.87\n",
      "F    32.05\n",
      "Name: count, dtype: float64\n"
     ]
    }
   ],
   "source": [
    "# Select per category\n",
    "filter_control = merged_clnt_exp[merged_clnt_exp[\"variation\"] == \"Control\"]\n",
    "\n",
    "# Per the category count the gender\n",
    "gender_counts_control = filter_control[\"gender\"].value_counts()\n",
    "\n",
    "# Total clients per category\n",
    "total_clients = len(filter_control)\n",
    "\n",
    "# Percentage\n",
    "gender_percentage_control = ((gender_counts_control / total_clients) * 100).round(2)\n",
    "\n",
    "print(\"The total of clients per gender in Control is:\")\n",
    "print(gender_percentage_control)"
   ]
  },
  {
   "cell_type": "code",
   "execution_count": 99,
   "id": "1ec8f58b-787b-4c0a-83ee-da02c04ffc08",
   "metadata": {},
   "outputs": [
    {
     "name": "stdout",
     "output_type": "stream",
     "text": [
      "The total of clients per gender in Test is:\n",
      "gender\n",
      "U    34.36\n",
      "M    33.29\n",
      "F    32.32\n",
      "X     0.01\n",
      "Name: count, dtype: float64\n"
     ]
    }
   ],
   "source": [
    "# Select per category\n",
    "filter_test = merged_clnt_exp[merged_clnt_exp[\"variation\"] == \"Test\"]\n",
    "\n",
    "# Per the category count the gender\n",
    "gender_counts_test = filter_test[\"gender\"].value_counts()\n",
    "\n",
    "# Total clients per category\n",
    "total_clients_test = len(filter_test)\n",
    "\n",
    "# Percentage\n",
    "gender_percentage_test = ((gender_counts_test / total_clients_test) * 100).round(2)\n",
    "\n",
    "print(\"The total of clients per gender in Test is:\")\n",
    "print(gender_percentage_test)"
   ]
  },
  {
   "cell_type": "markdown",
   "id": "bff1891b-9dc7-4b75-9a39-d726cc7aa14d",
   "metadata": {},
   "source": [
    "**Average per AGE**"
   ]
  },
  {
   "cell_type": "code",
   "execution_count": 104,
   "id": "a7e38189-710d-4f62-900a-f21322d7f36d",
   "metadata": {},
   "outputs": [
    {
     "name": "stdout",
     "output_type": "stream",
     "text": [
      "The average per age in Control is: 47.5\n",
      "The average per age in Test is: 47.16\n"
     ]
    }
   ],
   "source": [
    "# Filter per category in the age column\n",
    "avg_age_control = merged_clnt_exp[merged_clnt_exp[\"variation\"] == \"Control\"][\"clnt_age\"].mean().round(2)\n",
    "\n",
    "print(f\"The average per age in Control is: {avg_age_control}\")\n",
    "\n",
    "# Filter per category in the age column\n",
    "avg_age_test = merged_clnt_exp[merged_clnt_exp[\"variation\"] == \"Test\"][\"clnt_age\"].mean().round(2)\n",
    "\n",
    "print(f\"The average per age in Test is: {avg_age_test}\")"
   ]
  },
  {
   "cell_type": "markdown",
   "id": "8853356e-d9d9-48d9-a091-3944d7bf01f6",
   "metadata": {},
   "source": [
    "**Average per TENURE per year**"
   ]
  },
  {
   "cell_type": "code",
   "execution_count": 110,
   "id": "ed7f94a8-dfa1-4af7-b7f7-c641f469a5ab",
   "metadata": {},
   "outputs": [
    {
     "name": "stdout",
     "output_type": "stream",
     "text": [
      "The average of tenure per year in Control is: 12.09\n",
      "The average of tenure per year in Test is: 11.98\n"
     ]
    }
   ],
   "source": [
    "# Filter per category in the tenure year column\n",
    "avg_tenure_control = merged_clnt_exp[merged_clnt_exp[\"variation\"] == \"Control\"][\"clnt_tenure_yr\"].mean().round(2)\n",
    "\n",
    "print(f\"The average of tenure per year in Control is: {avg_tenure_control}\")\n",
    "\n",
    "# Filter per category in the tenure year column\n",
    "avg_tenure_control = merged_clnt_exp[merged_clnt_exp[\"variation\"] == \"Test\"][\"clnt_tenure_yr\"].mean().round(2)\n",
    "\n",
    "print(f\"The average of tenure per year in Test is: {avg_tenure_control}\")"
   ]
  },
  {
   "cell_type": "markdown",
   "id": "ccc0503a-97c6-434a-ae6e-955ec271390c",
   "metadata": {},
   "source": [
    "**Percentage per number of ACCOUNTS**"
   ]
  },
  {
   "cell_type": "code",
   "execution_count": 109,
   "id": "d98442ba-561a-4ea0-bee1-27875873c859",
   "metadata": {},
   "outputs": [
    {
     "name": "stdout",
     "output_type": "stream",
     "text": [
      "The total of clients accounts in Control is:\n",
      "num_accounts\n",
      "2.0    78.24\n",
      "3.0    18.06\n",
      "4.0     3.17\n",
      "5.0     0.46\n",
      "6.0     0.04\n",
      "7.0     0.01\n",
      "Name: count, dtype: float64\n"
     ]
    }
   ],
   "source": [
    "# Select per category\n",
    "filter_control = merged_clnt_exp[merged_clnt_exp[\"variation\"] == \"Control\"]\n",
    "\n",
    "# Per the category count the gender\n",
    "accounts_accounts_control = filter_control[\"num_accounts\"].value_counts()\n",
    "\n",
    "# Total clients per category\n",
    "total_clients = len(filter_control)\n",
    "\n",
    "# Percentage\n",
    "acounts_percentage_control = ((accounts_accounts_control / total_clients) * 100).round(2)\n",
    "\n",
    "print(\"The total of clients accounts in Control is:\")\n",
    "print(acounts_percentage_control)"
   ]
  },
  {
   "cell_type": "code",
   "execution_count": 146,
   "id": "b6cd44d6-0b92-4735-8832-c05512f5803e",
   "metadata": {},
   "outputs": [
    {
     "name": "stdout",
     "output_type": "stream",
     "text": [
      "The total of clients accounts in Test is:\n",
      "num_accounts\n",
      "2.0    79.02\n",
      "3.0    17.41\n",
      "4.0     3.11\n",
      "5.0     0.36\n",
      "6.0     0.05\n",
      "7.0     0.01\n",
      "1.0     0.00\n",
      "Name: count, dtype: float64\n"
     ]
    }
   ],
   "source": [
    "# Select per category\n",
    "filter_test = merged_clnt_exp[merged_clnt_exp[\"variation\"] == \"Test\"]\n",
    "\n",
    "# Per the category count the gender\n",
    "accounts_accounts_test = filter_test[\"num_accounts\"].value_counts()\n",
    "\n",
    "# Total clients per category\n",
    "total_clients = len(filter_test)\n",
    "\n",
    "# Percentage\n",
    "acounts_percentage_test = ((accounts_accounts_test / total_clients) * 100).round(2)\n",
    "\n",
    "print(\"The total of clients accounts in Test is:\")\n",
    "print(acounts_percentage_test)"
   ]
  },
  {
   "cell_type": "markdown",
   "id": "98b92e33-7cc8-4397-9e1c-9edf57de20ae",
   "metadata": {},
   "source": [
    "**Results**\n",
    "\n",
    "`Gender:`\n",
    "\n",
    "Female:\n",
    "\n",
    "- Control: 32.05%\n",
    "- Test: 32.32%\n",
    "\n",
    "Male:\n",
    "\n",
    "- Control: 33.87%\n",
    "- Test: 33.29%\n",
    "\n",
    "`Age`\n",
    "\n",
    "The average per age in Control is: 47.5\n",
    "\n",
    "The average per age in Test is: 47.16\n",
    "\n",
    "`Tenure`\n",
    "\n",
    "The average of tenure per year in Control is: 12.09\n",
    "\n",
    "The average of tenure per year in Test is: 11.98\n",
    "\n",
    "\n",
    "`Clients num accounts`\n",
    "\n",
    "Control:\n",
    "- 2: 78.24\n",
    "- 3:   18.06\n",
    "- 4:     3.17\n",
    "- 5:     0.46\n",
    "- 6:     0.04\n",
    "- 7:     0.01\n",
    "\n",
    "Test:\n",
    "- 2:    79.02\n",
    "- 3:    17.41\n",
    "- 4:     3.11\n",
    "- 5:     0.36\n",
    "- 6:     0.05\n",
    "- 7:     0.01\n",
    "- 1:     0.00\n",
    "\n",
    "`Was the experiment well structured?`\n",
    "\n",
    "Based on the results provided, it appears that the experiment was well structured, as clear and specific metrics related to the study design are presented.\n",
    "\n",
    "`Were the clients randomly and equally divided between the old and new designs?`\n",
    "\n",
    "Yes, the results show that there is no significant difference in the distribution of gender, age, seniority, or number of accounts between the control and test groups, suggesting an even split between the designs.\n",
    "\n",
    "`Was there any bias?`\n",
    "\n",
    "Based on the results provided, there appears to be no obvious bias, as the metrics of gender, age, seniority, and number of accounts are fairly evenly balanced between the control and test groups."
   ]
  },
  {
   "cell_type": "markdown",
   "id": "c06a3463-e2a3-4f19-bce5-577b07ad87f1",
   "metadata": {},
   "source": [
    "<span style=\"color:blue\">**Duration**</span>\n",
    "  \n",
    "`Was the timeframe of the experiment adequate to gather meaningful data and insights?`\n",
    "\n",
    "Yes, I believe that the time period of the experiment was adequate to collect meaningful data and information. During the experiment, we observed multiple levels of inputs per day, suggesting continuous variability and activity in the process or system under study. In addition, the experiment was conducted over a period of 97 days, which equates to approximately three months. This duration provides sufficient time to identify patterns, trends and variations in the data collected. In addition, the three-month period provides a reasonable window of time to test and evaluate different approaches or strategies, as well as to make adjustments and improvements to the experimental process if necessary. In summary, I believe that the time frame of the experiment was appropriate and allowed for the collection of meaningful data, as well as providing flexibility for future iterations or expansions of the experiment."
   ]
  },
  {
   "cell_type": "code",
   "execution_count": 253,
   "id": "c9e76db1-e928-4537-b834-04176ba1a973",
   "metadata": {},
   "outputs": [
    {
     "data": {
      "text/html": [
       "<div>\n",
       "<style scoped>\n",
       "    .dataframe tbody tr th:only-of-type {\n",
       "        vertical-align: middle;\n",
       "    }\n",
       "\n",
       "    .dataframe tbody tr th {\n",
       "        vertical-align: top;\n",
       "    }\n",
       "\n",
       "    .dataframe thead th {\n",
       "        text-align: right;\n",
       "    }\n",
       "</style>\n",
       "<table border=\"1\" class=\"dataframe\">\n",
       "  <thead>\n",
       "    <tr style=\"text-align: right;\">\n",
       "      <th></th>\n",
       "      <th>client_id</th>\n",
       "      <th>visitor_id</th>\n",
       "      <th>visit_id</th>\n",
       "      <th>process_step</th>\n",
       "      <th>date_time</th>\n",
       "      <th>date</th>\n",
       "    </tr>\n",
       "  </thead>\n",
       "  <tbody>\n",
       "    <tr>\n",
       "      <th>0</th>\n",
       "      <td>9988021</td>\n",
       "      <td>580560515_7732621733</td>\n",
       "      <td>781255054_21935453173_531117</td>\n",
       "      <td>step_3</td>\n",
       "      <td>2017-04-17 15:27:07</td>\n",
       "      <td>2017-04-17</td>\n",
       "    </tr>\n",
       "    <tr>\n",
       "      <th>1</th>\n",
       "      <td>9988021</td>\n",
       "      <td>580560515_7732621733</td>\n",
       "      <td>781255054_21935453173_531117</td>\n",
       "      <td>step_2</td>\n",
       "      <td>2017-04-17 15:26:51</td>\n",
       "      <td>2017-04-17</td>\n",
       "    </tr>\n",
       "    <tr>\n",
       "      <th>2</th>\n",
       "      <td>9988021</td>\n",
       "      <td>580560515_7732621733</td>\n",
       "      <td>781255054_21935453173_531117</td>\n",
       "      <td>step_3</td>\n",
       "      <td>2017-04-17 15:19:22</td>\n",
       "      <td>2017-04-17</td>\n",
       "    </tr>\n",
       "    <tr>\n",
       "      <th>3</th>\n",
       "      <td>9988021</td>\n",
       "      <td>580560515_7732621733</td>\n",
       "      <td>781255054_21935453173_531117</td>\n",
       "      <td>step_2</td>\n",
       "      <td>2017-04-17 15:19:13</td>\n",
       "      <td>2017-04-17</td>\n",
       "    </tr>\n",
       "    <tr>\n",
       "      <th>4</th>\n",
       "      <td>9988021</td>\n",
       "      <td>580560515_7732621733</td>\n",
       "      <td>781255054_21935453173_531117</td>\n",
       "      <td>step_3</td>\n",
       "      <td>2017-04-17 15:18:04</td>\n",
       "      <td>2017-04-17</td>\n",
       "    </tr>\n",
       "  </tbody>\n",
       "</table>\n",
       "</div>"
      ],
      "text/plain": [
       "   client_id            visitor_id                      visit_id process_step  \\\n",
       "0    9988021  580560515_7732621733  781255054_21935453173_531117       step_3   \n",
       "1    9988021  580560515_7732621733  781255054_21935453173_531117       step_2   \n",
       "2    9988021  580560515_7732621733  781255054_21935453173_531117       step_3   \n",
       "3    9988021  580560515_7732621733  781255054_21935453173_531117       step_2   \n",
       "4    9988021  580560515_7732621733  781255054_21935453173_531117       step_3   \n",
       "\n",
       "            date_time        date  \n",
       "0 2017-04-17 15:27:07  2017-04-17  \n",
       "1 2017-04-17 15:26:51  2017-04-17  \n",
       "2 2017-04-17 15:19:22  2017-04-17  \n",
       "3 2017-04-17 15:19:13  2017-04-17  \n",
       "4 2017-04-17 15:18:04  2017-04-17  "
      ]
     },
     "execution_count": 253,
     "metadata": {},
     "output_type": "execute_result"
    }
   ],
   "source": [
    "webs.head()"
   ]
  },
  {
   "cell_type": "code",
   "execution_count": 130,
   "id": "ed2a2c88-dbc6-45be-972f-e4fa1c4bbb95",
   "metadata": {},
   "outputs": [
    {
     "name": "stderr",
     "output_type": "stream",
     "text": [
      "/var/folders/__/k53x5x752318rh35q54k32m80000gn/T/ipykernel_12215/3983419839.py:1: SettingWithCopyWarning: \n",
      "A value is trying to be set on a copy of a slice from a DataFrame.\n",
      "Try using .loc[row_indexer,col_indexer] = value instead\n",
      "\n",
      "See the caveats in the documentation: https://pandas.pydata.org/pandas-docs/stable/user_guide/indexing.html#returning-a-view-versus-a-copy\n",
      "  webs[\"date_time\"] = pd.to_datetime(webs[\"date_time\"])\n"
     ]
    }
   ],
   "source": [
    "webs[\"date_time\"] = pd.to_datetime(webs[\"date_time\"])"
   ]
  },
  {
   "cell_type": "code",
   "execution_count": 131,
   "id": "6c58da9b-9abb-43a0-9271-b421b63adf85",
   "metadata": {},
   "outputs": [
    {
     "name": "stdout",
     "output_type": "stream",
     "text": [
      "The project start: 2017-03-15 00:03:03\n",
      "The project start: 2017-06-20 23:59:57\n"
     ]
    }
   ],
   "source": [
    "test_start = webs[\"date_time\"].min()\n",
    "print(f\"The project start: {test_start}\")\n",
    "\n",
    "test_end = webs[\"date_time\"].max()\n",
    "print(f\"The project start: {test_end}\")"
   ]
  },
  {
   "cell_type": "code",
   "execution_count": 134,
   "id": "05da72c1-7d64-4e6a-b5f6-c5768098607f",
   "metadata": {},
   "outputs": [
    {
     "name": "stdout",
     "output_type": "stream",
     "text": [
      "The total days of the project: 97 days\n"
     ]
    }
   ],
   "source": [
    "total_days = (test_end - test_start).days\n",
    "print(f\"The total days of the project: {total_days} days\")"
   ]
  },
  {
   "cell_type": "code",
   "execution_count": 144,
   "id": "0e86fbfb-11ff-4f17-8679-7ca3c453bb94",
   "metadata": {},
   "outputs": [
    {
     "name": "stderr",
     "output_type": "stream",
     "text": [
      "/var/folders/__/k53x5x752318rh35q54k32m80000gn/T/ipykernel_12215/2988613233.py:2: SettingWithCopyWarning: \n",
      "A value is trying to be set on a copy of a slice from a DataFrame.\n",
      "Try using .loc[row_indexer,col_indexer] = value instead\n",
      "\n",
      "See the caveats in the documentation: https://pandas.pydata.org/pandas-docs/stable/user_guide/indexing.html#returning-a-view-versus-a-copy\n",
      "  webs['date'] = webs['date_time'].dt.date\n"
     ]
    }
   ],
   "source": [
    "# Extraer solo la parte de la fecha (sin la hora) para agrupar por día\n",
    "webs['date'] = webs['date_time'].dt.date\n",
    "\n",
    "# Contar el número de entradas por día\n",
    "entries_per_day = webs.groupby('date').size().reset_index(name='total_entries')"
   ]
  },
  {
   "cell_type": "code",
   "execution_count": 143,
   "id": "8afb905c-a767-431a-947b-fb89cbbe6fed",
   "metadata": {},
   "outputs": [
    {
     "data": {
      "image/png": "[encoded data removed]",
      "text/plain": [
       "<Figure size 1400x1000 with 1 Axes>"
      ]
     },
     "metadata": {},
     "output_type": "display_data"
    }
   ],
   "source": [
    "# Crear una figura y ejes\n",
    "plt.figure(figsize=(14, 10))\n",
    "\n",
    "# Graficar el número total de entradas por día\n",
    "plt.plot(entries_per_day['date'], entries_per_day['total_entries'], marker='o', color='Blue', linestyle='-')\n",
    "\n",
    "# Rotar las etiquetas del eje x para mayor legibilidad\n",
    "plt.xticks(rotation=45)\n",
    "\n",
    "# Etiquetas y título\n",
    "plt.xlabel('Date')\n",
    "plt.ylabel('Total Entries')\n",
    "plt.title('Total Entries per day')\n",
    "\n",
    "# Mostrar la gráfica\n",
    "plt.tight_layout()\n",
    "plt.show()"
   ]
  },
  {
   "cell_type": "markdown",
   "id": "0d4f02c8-e29d-47f9-843e-62d3c79a3fec",
   "metadata": {},
   "source": [
    "<span style=\"color:blue\">**Additional Data Needs**</span>"
   ]
  },
  {
   "cell_type": "markdown",
   "id": "3287526c-b5e2-4b10-8213-e8d27a037b1e",
   "metadata": {},
   "source": [
    "When conducting an A/B testing project, there are several types of additional data that could enhance the analysis:\n",
    "\n",
    "**1. User Demographics:** Understanding the demographic characteristics of users participating in the test could provide insights into how different demographic groups respond to the changes being tested.\n",
    "\n",
    "**2.User Feedback:** Gathering qualitative feedback from users through surveys, interviews, or user feedback channels can provide valuable insights into user perceptions, preferences, and reasons behind their behavior.\n",
    "\n",
    "**3.External Factors:** Consideration of external factors such as seasonality, marketing campaigns, or industry trends can help in interpreting the results of the A/B test and understanding whether observed changes are attributable to the tested variations or external factors."
   ]
  },
  {
   "cell_type": "code",
   "execution_count": null,
   "id": "5f8741fd-6fd6-4175-94b2-ed16d96ddf8c",
   "metadata": {},
   "outputs": [],
   "source": []
  }
 ],
 "metadata": {
  "kernelspec": {
   "display_name": "myenv",
   "language": "python",
   "name": "myenv"
  },
  "language_info": {
   "codemirror_mode": {
    "name": "ipython",
    "version": 3
   },
   "file_extension": ".py",
   "mimetype": "text/x-python",
   "name": "python",
   "nbconvert_exporter": "python",
   "pygments_lexer": "ipython3",
   "version": "3.11.7"
  }
 },
 "nbformat": 4,
 "nbformat_minor": 5
}
